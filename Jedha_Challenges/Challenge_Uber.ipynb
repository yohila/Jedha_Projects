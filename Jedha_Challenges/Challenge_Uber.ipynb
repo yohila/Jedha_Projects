{
  "nbformat": 4,
  "nbformat_minor": 0,
  "metadata": {
    "colab": {
      "name": "Challenge_Uber.ipynb",
      "provenance": [],
      "collapsed_sections": []
    },
    "kernelspec": {
      "name": "python3",
      "display_name": "Python 3"
    }
  },
  "cells": [
    {
      "cell_type": "code",
      "metadata": {
        "id": "o0RiiaphB-vI",
        "colab_type": "code",
        "outputId": "65daf59b-6a25-4e97-f1a3-5165136580a9",
        "colab": {
          "base_uri": "https://localhost:8080/",
          "height": 122
        }
      },
      "source": [
        "from google.colab import drive\n",
        "drive.mount('/content/gdrive')"
      ],
      "execution_count": 1,
      "outputs": [
        {
          "output_type": "stream",
          "text": [
            "Go to this URL in a browser: https://accounts.google.com/o/oauth2/auth?client_id=947318989803-6bn6qk8qdgf4n4g3pfee6491hc0brc4i.apps.googleusercontent.com&redirect_uri=urn%3aietf%3awg%3aoauth%3a2.0%3aoob&response_type=code&scope=email%20https%3a%2f%2fwww.googleapis.com%2fauth%2fdocs.test%20https%3a%2f%2fwww.googleapis.com%2fauth%2fdrive%20https%3a%2f%2fwww.googleapis.com%2fauth%2fdrive.photos.readonly%20https%3a%2f%2fwww.googleapis.com%2fauth%2fpeopleapi.readonly\n",
            "\n",
            "Enter your authorization code:\n",
            "··········\n",
            "Mounted at /content/gdrive\n"
          ],
          "name": "stdout"
        }
      ]
    },
    {
      "cell_type": "code",
      "metadata": {
        "id": "KA0HAiBlCXPm",
        "colab_type": "code",
        "colab": {}
      },
      "source": [
        "import pandas as pd\n",
        "import numpy as np\n",
        "import seaborn as sns\n",
        "import matplotlib.pyplot as plt\n",
        "from sklearn.cluster import KMeans"
      ],
      "execution_count": 0,
      "outputs": []
    },
    {
      "cell_type": "code",
      "metadata": {
        "id": "X2ijWYHeC2t1",
        "colab_type": "code",
        "outputId": "e0e1b1c7-29b8-44bf-8627-e86f51030143",
        "colab": {
          "base_uri": "https://localhost:8080/",
          "height": 204
        }
      },
      "source": [
        "df = pd.read_csv('gdrive/My Drive/CSV_Files/uber-raw-data-aug14.csv')\n",
        "df.head()"
      ],
      "execution_count": 3,
      "outputs": [
        {
          "output_type": "execute_result",
          "data": {
            "text/html": [
              "<div>\n",
              "<style scoped>\n",
              "    .dataframe tbody tr th:only-of-type {\n",
              "        vertical-align: middle;\n",
              "    }\n",
              "\n",
              "    .dataframe tbody tr th {\n",
              "        vertical-align: top;\n",
              "    }\n",
              "\n",
              "    .dataframe thead th {\n",
              "        text-align: right;\n",
              "    }\n",
              "</style>\n",
              "<table border=\"1\" class=\"dataframe\">\n",
              "  <thead>\n",
              "    <tr style=\"text-align: right;\">\n",
              "      <th></th>\n",
              "      <th>Date/Time</th>\n",
              "      <th>Lat</th>\n",
              "      <th>Lon</th>\n",
              "      <th>Base</th>\n",
              "    </tr>\n",
              "  </thead>\n",
              "  <tbody>\n",
              "    <tr>\n",
              "      <th>0</th>\n",
              "      <td>8/1/2014 0:03:00</td>\n",
              "      <td>40.7366</td>\n",
              "      <td>-73.9906</td>\n",
              "      <td>B02512</td>\n",
              "    </tr>\n",
              "    <tr>\n",
              "      <th>1</th>\n",
              "      <td>8/1/2014 0:09:00</td>\n",
              "      <td>40.7260</td>\n",
              "      <td>-73.9918</td>\n",
              "      <td>B02512</td>\n",
              "    </tr>\n",
              "    <tr>\n",
              "      <th>2</th>\n",
              "      <td>8/1/2014 0:12:00</td>\n",
              "      <td>40.7209</td>\n",
              "      <td>-74.0507</td>\n",
              "      <td>B02512</td>\n",
              "    </tr>\n",
              "    <tr>\n",
              "      <th>3</th>\n",
              "      <td>8/1/2014 0:12:00</td>\n",
              "      <td>40.7387</td>\n",
              "      <td>-73.9856</td>\n",
              "      <td>B02512</td>\n",
              "    </tr>\n",
              "    <tr>\n",
              "      <th>4</th>\n",
              "      <td>8/1/2014 0:12:00</td>\n",
              "      <td>40.7323</td>\n",
              "      <td>-74.0077</td>\n",
              "      <td>B02512</td>\n",
              "    </tr>\n",
              "  </tbody>\n",
              "</table>\n",
              "</div>"
            ],
            "text/plain": [
              "          Date/Time      Lat      Lon    Base\n",
              "0  8/1/2014 0:03:00  40.7366 -73.9906  B02512\n",
              "1  8/1/2014 0:09:00  40.7260 -73.9918  B02512\n",
              "2  8/1/2014 0:12:00  40.7209 -74.0507  B02512\n",
              "3  8/1/2014 0:12:00  40.7387 -73.9856  B02512\n",
              "4  8/1/2014 0:12:00  40.7323 -74.0077  B02512"
            ]
          },
          "metadata": {
            "tags": []
          },
          "execution_count": 3
        }
      ]
    },
    {
      "cell_type": "code",
      "metadata": {
        "id": "B8m1Ijc3DAuN",
        "colab_type": "code",
        "outputId": "4007e020-5151-48ef-e763-6d890304704c",
        "colab": {
          "base_uri": "https://localhost:8080/",
          "height": 34
        }
      },
      "source": [
        "df.shape"
      ],
      "execution_count": 4,
      "outputs": [
        {
          "output_type": "execute_result",
          "data": {
            "text/plain": [
              "(829275, 4)"
            ]
          },
          "metadata": {
            "tags": []
          },
          "execution_count": 4
        }
      ]
    },
    {
      "cell_type": "code",
      "metadata": {
        "id": "8L1j6DWIDY9E",
        "colab_type": "code",
        "outputId": "3bc6cf58-2f95-4952-df96-368e1c03a903",
        "colab": {
          "base_uri": "https://localhost:8080/",
          "height": 68
        }
      },
      "source": [
        "clus = df[['Lat', 'Lon']]\n",
        "clus.dtypes"
      ],
      "execution_count": 5,
      "outputs": [
        {
          "output_type": "execute_result",
          "data": {
            "text/plain": [
              "Lat    float64\n",
              "Lon    float64\n",
              "dtype: object"
            ]
          },
          "metadata": {
            "tags": []
          },
          "execution_count": 5
        }
      ]
    },
    {
      "cell_type": "code",
      "metadata": {
        "id": "t_ZpEnZ3DhWE",
        "colab_type": "code",
        "colab": {}
      },
      "source": [
        "distortation = []\n",
        "K = range(1,10)\n",
        "for i in K:\n",
        "  kmean = KMeans(n_clusters=i, init = 'k-means++', max_iter = 300, random_state=12345)\n",
        "  kmean.fit(clus)\n",
        "  distortation.append(kmean.inertia_)"
      ],
      "execution_count": 0,
      "outputs": []
    },
    {
      "cell_type": "code",
      "metadata": {
        "id": "KedrHhTQIDza",
        "colab_type": "code",
        "outputId": "96cb7405-b436-493a-970f-12a749bb2538",
        "colab": {
          "base_uri": "https://localhost:8080/",
          "height": 513
        }
      },
      "source": [
        "plt.figure(figsize=(16,8))\n",
        "plt.plot(K, distortation, 'bx-')\n",
        "plt.xlabel('K')\n",
        "plt.ylabel('Distortation')\n",
        "plt.title('The Elbow Method showing the optimia K')\n",
        "plt.show()"
      ],
      "execution_count": 7,
      "outputs": [
        {
          "output_type": "display_data",
          "data": {
            "image/png": "[encoded data removed]",
            "text/plain": [
              "<Figure size 1152x576 with 1 Axes>"
            ]
          },
          "metadata": {
            "tags": []
          }
        }
      ]
    },
    {
      "cell_type": "code",
      "metadata": {
        "id": "i5j0QdvzI5SZ",
        "colab_type": "code",
        "outputId": "99138762-03dd-41da-cb4f-e6b20ea6ecf9",
        "colab": {
          "base_uri": "https://localhost:8080/",
          "height": 68
        }
      },
      "source": [
        "kmean = KMeans(n_clusters=6, init='k-means++', max_iter = 300, random_state = 10 )\n",
        "kmean.fit(clus)"
      ],
      "execution_count": 8,
      "outputs": [
        {
          "output_type": "execute_result",
          "data": {
            "text/plain": [
              "KMeans(algorithm='auto', copy_x=True, init='k-means++', max_iter=300,\n",
              "       n_clusters=6, n_init=10, n_jobs=None, precompute_distances='auto',\n",
              "       random_state=10, tol=0.0001, verbose=0)"
            ]
          },
          "metadata": {
            "tags": []
          },
          "execution_count": 8
        }
      ]
    },
    {
      "cell_type": "code",
      "metadata": {
        "id": "sv44qRDkJzup",
        "colab_type": "code",
        "outputId": "7dce89e2-19f2-4755-c153-0b2f8cca96a7",
        "colab": {
          "base_uri": "https://localhost:8080/",
          "height": 119
        }
      },
      "source": [
        "centroids = kmean.cluster_centers_\n",
        "centroids"
      ],
      "execution_count": 9,
      "outputs": [
        {
          "output_type": "execute_result",
          "data": {
            "text/plain": [
              "array([[ 40.79621797, -73.8919077 ],\n",
              "       [ 40.75781974, -73.98120026],\n",
              "       [ 40.708056  , -73.98538945],\n",
              "       [ 40.66114636, -73.78701975],\n",
              "       [ 40.69625377, -74.19976008],\n",
              "       [ 40.81340199, -73.53396319]])"
            ]
          },
          "metadata": {
            "tags": []
          },
          "execution_count": 9
        }
      ]
    },
    {
      "cell_type": "code",
      "metadata": {
        "id": "Nw-uwDdFPCgW",
        "colab_type": "code",
        "outputId": "ade9f919-6e8d-40b6-a8c6-564068920f10",
        "colab": {
          "base_uri": "https://localhost:8080/",
          "height": 34
        }
      },
      "source": [
        "new_location = [(40.5666, -73.5631)]\n",
        "kmean.predict(new_location)"
      ],
      "execution_count": 10,
      "outputs": [
        {
          "output_type": "execute_result",
          "data": {
            "text/plain": [
              "array([3], dtype=int32)"
            ]
          },
          "metadata": {
            "tags": []
          },
          "execution_count": 10
        }
      ]
    },
    {
      "cell_type": "code",
      "metadata": {
        "id": "O6qawWCyONW6",
        "colab_type": "code",
        "colab": {}
      },
      "source": [
        "colocation = pd.DataFrame(centroids, columns = ['Lat', 'Long'])"
      ],
      "execution_count": 0,
      "outputs": []
    },
    {
      "cell_type": "code",
      "metadata": {
        "id": "tpZCskdjOojm",
        "colab_type": "code",
        "outputId": "6d69e6f7-5e15-403d-88ed-88e02d0f512c",
        "colab": {
          "base_uri": "https://localhost:8080/",
          "height": 204
        }
      },
      "source": [
        "colocation.head()"
      ],
      "execution_count": 12,
      "outputs": [
        {
          "output_type": "execute_result",
          "data": {
            "text/html": [
              "<div>\n",
              "<style scoped>\n",
              "    .dataframe tbody tr th:only-of-type {\n",
              "        vertical-align: middle;\n",
              "    }\n",
              "\n",
              "    .dataframe tbody tr th {\n",
              "        vertical-align: top;\n",
              "    }\n",
              "\n",
              "    .dataframe thead th {\n",
              "        text-align: right;\n",
              "    }\n",
              "</style>\n",
              "<table border=\"1\" class=\"dataframe\">\n",
              "  <thead>\n",
              "    <tr style=\"text-align: right;\">\n",
              "      <th></th>\n",
              "      <th>Lat</th>\n",
              "      <th>Long</th>\n",
              "    </tr>\n",
              "  </thead>\n",
              "  <tbody>\n",
              "    <tr>\n",
              "      <th>0</th>\n",
              "      <td>40.796218</td>\n",
              "      <td>-73.891908</td>\n",
              "    </tr>\n",
              "    <tr>\n",
              "      <th>1</th>\n",
              "      <td>40.757820</td>\n",
              "      <td>-73.981200</td>\n",
              "    </tr>\n",
              "    <tr>\n",
              "      <th>2</th>\n",
              "      <td>40.708056</td>\n",
              "      <td>-73.985389</td>\n",
              "    </tr>\n",
              "    <tr>\n",
              "      <th>3</th>\n",
              "      <td>40.661146</td>\n",
              "      <td>-73.787020</td>\n",
              "    </tr>\n",
              "    <tr>\n",
              "      <th>4</th>\n",
              "      <td>40.696254</td>\n",
              "      <td>-74.199760</td>\n",
              "    </tr>\n",
              "  </tbody>\n",
              "</table>\n",
              "</div>"
            ],
            "text/plain": [
              "         Lat       Long\n",
              "0  40.796218 -73.891908\n",
              "1  40.757820 -73.981200\n",
              "2  40.708056 -73.985389\n",
              "3  40.661146 -73.787020\n",
              "4  40.696254 -74.199760"
            ]
          },
          "metadata": {
            "tags": []
          },
          "execution_count": 12
        }
      ]
    },
    {
      "cell_type": "code",
      "metadata": {
        "id": "ap4zBRcMOrR2",
        "colab_type": "code",
        "outputId": "b8b6b348-90a1-48b5-d7b9-187dd50da4e2",
        "colab": {
          "base_uri": "https://localhost:8080/",
          "height": 319
        }
      },
      "source": [
        "plt.scatter(colocation['Lat'], colocation['Long'], marker = 'x', color = 'R', s = 100);"
      ],
      "execution_count": 13,
      "outputs": [
        {
          "output_type": "stream",
          "text": [
            "/usr/local/lib/python3.6/dist-packages/ipykernel_launcher.py:1: MatplotlibDeprecationWarning: Support for uppercase single-letter colors is deprecated since Matplotlib 3.1 and will be removed in 3.3; please use lowercase instead.\n",
            "  \"\"\"Entry point for launching an IPython kernel.\n"
          ],
          "name": "stderr"
        },
        {
          "output_type": "display_data",
          "data": {
            "image/png": "[encoded data removed]",
            "text/plain": [
              "<Figure size 432x288 with 1 Axes>"
            ]
          },
          "metadata": {
            "tags": []
          }
        }
      ]
    },
    {
      "cell_type": "code",
      "metadata": {
        "id": "v5ZjVTmXPvA3",
        "colab_type": "code",
        "outputId": "38f92668-fc63-4ff9-fd91-dbc4ce387181",
        "colab": {
          "base_uri": "https://localhost:8080/",
          "height": 941
        }
      },
      "source": [
        "import folium\n",
        "centroid = colocation.values.tolist()\n",
        "print(centroid)\n",
        "map = folium.Map(location=[40.79658011772687, -73.87341741832425], zoom_start = 25)\n",
        "for point in range(0, len(centroid)):\n",
        "  folium.Marker(centroid[point], popup= folium.Popup(centroid[point])).add_to(map)\n",
        "map"
      ],
      "execution_count": 14,
      "outputs": [
        {
          "output_type": "stream",
          "text": [
            "[[40.79621796658565, -73.89190769923687], [40.75781973721104, -73.98120026274063], [40.708055997642944, -73.9853894484063], [40.66114636054772, -73.78701975359483], [40.696253766293694, -74.19976007613336], [40.81340199081164, -73.53396318529862]]\n"
          ],
          "name": "stdout"
        },
        {
          "output_type": "execute_result",
          "data": {
            "text/html": [
              "<div style=\"width:100%;\"><div style=\"position:relative;width:100%;height:0;padding-bottom:60%;\"><iframe src=\"data:text/html;charset=utf-8;base64,PCFET0NUWVBFIGh0bWw+CjxoZWFkPiAgICAKICAgIDxtZXRhIGh0dHAtZXF1aXY9ImNvbnRlbnQtdHlwZSIgY29udGVudD0idGV4dC9odG1sOyBjaGFyc2V0PVVURi04IiAvPgogICAgPHNjcmlwdD5MX1BSRUZFUl9DQU5WQVM9ZmFsc2U7IExfTk9fVE9VQ0g9ZmFsc2U7IExfRElTQUJMRV8zRD1mYWxzZTs8L3NjcmlwdD4KICAgIDxzY3JpcHQgc3JjPSJodHRwczovL2Nkbi5qc2RlbGl2ci5uZXQvbnBtL2xlYWZsZXRAMS40LjAvZGlzdC9sZWFmbGV0LmpzIj48L3NjcmlwdD4KICAgIDxzY3JpcHQgc3JjPSJodHRwczovL2NvZGUuanF1ZXJ5LmNvbS9qcXVlcnktMS4xMi40Lm1pbi5qcyI+PC9zY3JpcHQ+CiAgICA8c2NyaXB0IHNyYz0iaHR0cHM6Ly9tYXhjZG4uYm9vdHN0cmFwY2RuLmNvbS9ib290c3RyYXAvMy4yLjAvanMvYm9vdHN0cmFwLm1pbi5qcyI+PC9zY3JpcHQ+CiAgICA8c2NyaXB0IHNyYz0iaHR0cHM6Ly9jZG5qcy5jbG91ZGZsYXJlLmNvbS9hamF4L2xpYnMvTGVhZmxldC5hd2Vzb21lLW1hcmtlcnMvMi4wLjIvbGVhZmxldC5hd2Vzb21lLW1hcmtlcnMuanMiPjwvc2NyaXB0PgogICAgPGxpbmsgcmVsPSJzdHlsZXNoZWV0IiBocmVmPSJodHRwczovL2Nkbi5qc2RlbGl2ci5uZXQvbnBtL2xlYWZsZXRAMS40LjAvZGlzdC9sZWFmbGV0LmNzcyIvPgogICAgPGxpbmsgcmVsPSJzdHlsZXNoZWV0IiBocmVmPSJodHRwczovL21heGNkbi5ib290c3RyYXBjZG4uY29tL2Jvb3RzdHJhcC8zLjIuMC9jc3MvYm9vdHN0cmFwLm1pbi5jc3MiLz4KICAgIDxsaW5rIHJlbD0ic3R5bGVzaGVldCIgaHJlZj0iaHR0cHM6Ly9tYXhjZG4uYm9vdHN0cmFwY2RuLmNvbS9ib290c3RyYXAvMy4yLjAvY3NzL2Jvb3RzdHJhcC10aGVtZS5taW4uY3NzIi8+CiAgICA8bGluayByZWw9InN0eWxlc2hlZXQiIGhyZWY9Imh0dHBzOi8vbWF4Y2RuLmJvb3RzdHJhcGNkbi5jb20vZm9udC1hd2Vzb21lLzQuNi4zL2Nzcy9mb250LWF3ZXNvbWUubWluLmNzcyIvPgogICAgPGxpbmsgcmVsPSJzdHlsZXNoZWV0IiBocmVmPSJodHRwczovL2NkbmpzLmNsb3VkZmxhcmUuY29tL2FqYXgvbGlicy9MZWFmbGV0LmF3ZXNvbWUtbWFya2Vycy8yLjAuMi9sZWFmbGV0LmF3ZXNvbWUtbWFya2Vycy5jc3MiLz4KICAgIDxsaW5rIHJlbD0ic3R5bGVzaGVldCIgaHJlZj0iaHR0cHM6Ly9yYXdjZG4uZ2l0aGFjay5jb20vcHl0aG9uLXZpc3VhbGl6YXRpb24vZm9saXVtL21hc3Rlci9mb2xpdW0vdGVtcGxhdGVzL2xlYWZsZXQuYXdlc29tZS5yb3RhdGUuY3NzIi8+CiAgICA8c3R5bGU+aHRtbCwgYm9keSB7d2lkdGg6IDEwMCU7aGVpZ2h0OiAxMDAlO21hcmdpbjogMDtwYWRkaW5nOiAwO308L3N0eWxlPgogICAgPHN0eWxlPiNtYXAge3Bvc2l0aW9uOmFic29sdXRlO3RvcDowO2JvdHRvbTowO3JpZ2h0OjA7bGVmdDowO308L3N0eWxlPgogICAgCiAgICA8bWV0YSBuYW1lPSJ2aWV3cG9ydCIgY29udGVudD0id2lkdGg9ZGV2aWNlLXdpZHRoLAogICAgICAgIGluaXRpYWwtc2NhbGU9MS4wLCBtYXhpbXVtLXNjYWxlPTEuMCwgdXNlci1zY2FsYWJsZT1ubyIgLz4KICAgIDxzdHlsZT4jbWFwXzA5MmFiOWE0NGUzYTQ3YjM5MDQ2MGRmMmE1NmQ1MmFmIHsKICAgICAgICBwb3NpdGlvbjogcmVsYXRpdmU7CiAgICAgICAgd2lkdGg6IDEwMC4wJTsKICAgICAgICBoZWlnaHQ6IDEwMC4wJTsKICAgICAgICBsZWZ0OiAwLjAlOwogICAgICAgIHRvcDogMC4wJTsKICAgICAgICB9CiAgICA8L3N0eWxlPgo8L2hlYWQ+Cjxib2R5PiAgICAKICAgIAogICAgPGRpdiBjbGFzcz0iZm9saXVtLW1hcCIgaWQ9Im1hcF8wOTJhYjlhNDRlM2E0N2IzOTA0NjBkZjJhNTZkNTJhZiIgPjwvZGl2Pgo8L2JvZHk+CjxzY3JpcHQ+ICAgIAogICAgCiAgICAKICAgICAgICB2YXIgYm91bmRzID0gbnVsbDsKICAgIAoKICAgIHZhciBtYXBfMDkyYWI5YTQ0ZTNhNDdiMzkwNDYwZGYyYTU2ZDUyYWYgPSBMLm1hcCgKICAgICAgICAnbWFwXzA5MmFiOWE0NGUzYTQ3YjM5MDQ2MGRmMmE1NmQ1MmFmJywgewogICAgICAgIGNlbnRlcjogWzQwLjc5NjU4MDExNzcyNjg3LCAtNzMuODczNDE3NDE4MzI0MjVdLAogICAgICAgIHpvb206IDI1LAogICAgICAgIG1heEJvdW5kczogYm91bmRzLAogICAgICAgIGxheWVyczogW10sCiAgICAgICAgd29ybGRDb3B5SnVtcDogZmFsc2UsCiAgICAgICAgY3JzOiBMLkNSUy5FUFNHMzg1NywKICAgICAgICB6b29tQ29udHJvbDogdHJ1ZSwKICAgICAgICB9KTsKCgogICAgCiAgICB2YXIgdGlsZV9sYXllcl8wNjEyNWNmNzMxMDY0ZWVlYTgzODU3N2MwZGFlYWY1MCA9IEwudGlsZUxheWVyKAogICAgICAgICdodHRwczovL3tzfS50aWxlLm9wZW5zdHJlZXRtYXAub3JnL3t6fS97eH0ve3l9LnBuZycsCiAgICAgICAgewogICAgICAgICJhdHRyaWJ1dGlvbiI6IG51bGwsCiAgICAgICAgImRldGVjdFJldGluYSI6IGZhbHNlLAogICAgICAgICJtYXhOYXRpdmVab29tIjogMTgsCiAgICAgICAgIm1heFpvb20iOiAxOCwKICAgICAgICAibWluWm9vbSI6IDAsCiAgICAgICAgIm5vV3JhcCI6IGZhbHNlLAogICAgICAgICJvcGFjaXR5IjogMSwKICAgICAgICAic3ViZG9tYWlucyI6ICJhYmMiLAogICAgICAgICJ0bXMiOiBmYWxzZQp9KS5hZGRUbyhtYXBfMDkyYWI5YTQ0ZTNhNDdiMzkwNDYwZGYyYTU2ZDUyYWYpOwogICAgCiAgICAgICAgdmFyIG1hcmtlcl85MDE2OWRmODgzMjI0Y2Y0OWEzYTZmMDFmODVlOWJmNCA9IEwubWFya2VyKAogICAgICAgICAgICBbNDAuNzk2MjE3OTY2NTg1NjUsIC03My44OTE5MDc2OTkyMzY4N10sCiAgICAgICAgICAgIHsKICAgICAgICAgICAgICAgIGljb246IG5ldyBMLkljb24uRGVmYXVsdCgpLAogICAgICAgICAgICAgICAgfQogICAgICAgICAgICApLmFkZFRvKG1hcF8wOTJhYjlhNDRlM2E0N2IzOTA0NjBkZjJhNTZkNTJhZik7CiAgICAgICAgCiAgICAKICAgICAgICAgICAgdmFyIHBvcHVwXzE1MTQ3ZjAxMGI2YjQwY2ViZGFlZmRkNDc5NDVhNTM5ID0gTC5wb3B1cCh7bWF4V2lkdGg6ICcxMDAlJwogICAgICAgICAgICAKICAgICAgICAgICAgfSk7CgogICAgICAgICAgICAKCiAgICAgICAgICAgIG1hcmtlcl85MDE2OWRmODgzMjI0Y2Y0OWEzYTZmMDFmODVlOWJmNC5iaW5kUG9wdXAocG9wdXBfMTUxNDdmMDEwYjZiNDBjZWJkYWVmZGQ0Nzk0NWE1MzkpCiAgICAgICAgICAgIDsKCiAgICAgICAgICAgIAogICAgICAgIAogICAgCiAgICAgICAgdmFyIG1hcmtlcl8zYmY5ZTBkNmM5YzE0ZWRkYjdmZmVmZmY5NDM3Y2Q1MiA9IEwubWFya2VyKAogICAgICAgICAgICBbNDAuNzU3ODE5NzM3MjExMDQsIC03My45ODEyMDAyNjI3NDA2M10sCiAgICAgICAgICAgIHsKICAgICAgICAgICAgICAgIGljb246IG5ldyBMLkljb24uRGVmYXVsdCgpLAogICAgICAgICAgICAgICAgfQogICAgICAgICAgICApLmFkZFRvKG1hcF8wOTJhYjlhNDRlM2E0N2IzOTA0NjBkZjJhNTZkNTJhZik7CiAgICAgICAgCiAgICAKICAgICAgICAgICAgdmFyIHBvcHVwX2Y5OWJjMGYzZGQzYTQ0ZjBhYmM2OTQ4MGQ5ZDhhNWIzID0gTC5wb3B1cCh7bWF4V2lkdGg6ICcxMDAlJwogICAgICAgICAgICAKICAgICAgICAgICAgfSk7CgogICAgICAgICAgICAKCiAgICAgICAgICAgIG1hcmtlcl8zYmY5ZTBkNmM5YzE0ZWRkYjdmZmVmZmY5NDM3Y2Q1Mi5iaW5kUG9wdXAocG9wdXBfZjk5YmMwZjNkZDNhNDRmMGFiYzY5NDgwZDlkOGE1YjMpCiAgICAgICAgICAgIDsKCiAgICAgICAgICAgIAogICAgICAgIAogICAgCiAgICAgICAgdmFyIG1hcmtlcl9iNzY2MmY1NzU0ZTE0OWU4OWNmMDJlNTFmYWU2NDBlOCA9IEwubWFya2VyKAogICAgICAgICAgICBbNDAuNzA4MDU1OTk3NjQyOTQ0LCAtNzMuOTg1Mzg5NDQ4NDA2M10sCiAgICAgICAgICAgIHsKICAgICAgICAgICAgICAgIGljb246IG5ldyBMLkljb24uRGVmYXVsdCgpLAogICAgICAgICAgICAgICAgfQogICAgICAgICAgICApLmFkZFRvKG1hcF8wOTJhYjlhNDRlM2E0N2IzOTA0NjBkZjJhNTZkNTJhZik7CiAgICAgICAgCiAgICAKICAgICAgICAgICAgdmFyIHBvcHVwXzE3YzAzN2JlYjVmMzQyYzQ5MjBmZGNjYmJkNjc2MDIzID0gTC5wb3B1cCh7bWF4V2lkdGg6ICcxMDAlJwogICAgICAgICAgICAKICAgICAgICAgICAgfSk7CgogICAgICAgICAgICAKCiAgICAgICAgICAgIG1hcmtlcl9iNzY2MmY1NzU0ZTE0OWU4OWNmMDJlNTFmYWU2NDBlOC5iaW5kUG9wdXAocG9wdXBfMTdjMDM3YmViNWYzNDJjNDkyMGZkY2NiYmQ2NzYwMjMpCiAgICAgICAgICAgIDsKCiAgICAgICAgICAgIAogICAgICAgIAogICAgCiAgICAgICAgdmFyIG1hcmtlcl9mM2M3MzNjMjEyNGY0YmY3OGY5OTg1MDhjZDVkN2UyMyA9IEwubWFya2VyKAogICAgICAgICAgICBbNDAuNjYxMTQ2MzYwNTQ3NzIsIC03My43ODcwMTk3NTM1OTQ4M10sCiAgICAgICAgICAgIHsKICAgICAgICAgICAgICAgIGljb246IG5ldyBMLkljb24uRGVmYXVsdCgpLAogICAgICAgICAgICAgICAgfQogICAgICAgICAgICApLmFkZFRvKG1hcF8wOTJhYjlhNDRlM2E0N2IzOTA0NjBkZjJhNTZkNTJhZik7CiAgICAgICAgCiAgICAKICAgICAgICAgICAgdmFyIHBvcHVwX2YxNWZlYWI4MjZiYTQ5MjliYjM2MGRhZDg0M2QwYTJlID0gTC5wb3B1cCh7bWF4V2lkdGg6ICcxMDAlJwogICAgICAgICAgICAKICAgICAgICAgICAgfSk7CgogICAgICAgICAgICAKCiAgICAgICAgICAgIG1hcmtlcl9mM2M3MzNjMjEyNGY0YmY3OGY5OTg1MDhjZDVkN2UyMy5iaW5kUG9wdXAocG9wdXBfZjE1ZmVhYjgyNmJhNDkyOWJiMzYwZGFkODQzZDBhMmUpCiAgICAgICAgICAgIDsKCiAgICAgICAgICAgIAogICAgICAgIAogICAgCiAgICAgICAgdmFyIG1hcmtlcl82OGY3ZWQyOWFmNmU0ODAxYTgzODM1NDY4YTRiM2VmNCA9IEwubWFya2VyKAogICAgICAgICAgICBbNDAuNjk2MjUzNzY2MjkzNjk0LCAtNzQuMTk5NzYwMDc2MTMzMzZdLAogICAgICAgICAgICB7CiAgICAgICAgICAgICAgICBpY29uOiBuZXcgTC5JY29uLkRlZmF1bHQoKSwKICAgICAgICAgICAgICAgIH0KICAgICAgICAgICAgKS5hZGRUbyhtYXBfMDkyYWI5YTQ0ZTNhNDdiMzkwNDYwZGYyYTU2ZDUyYWYpOwogICAgICAgIAogICAgCiAgICAgICAgICAgIHZhciBwb3B1cF8zNTQwNmU4NzgzNTc0NGMwOTFkNmIyY2ZjNmM0OGYyOCA9IEwucG9wdXAoe21heFdpZHRoOiAnMTAwJScKICAgICAgICAgICAgCiAgICAgICAgICAgIH0pOwoKICAgICAgICAgICAgCgogICAgICAgICAgICBtYXJrZXJfNjhmN2VkMjlhZjZlNDgwMWE4MzgzNTQ2OGE0YjNlZjQuYmluZFBvcHVwKHBvcHVwXzM1NDA2ZTg3ODM1NzQ0YzA5MWQ2YjJjZmM2YzQ4ZjI4KQogICAgICAgICAgICA7CgogICAgICAgICAgICAKICAgICAgICAKICAgIAogICAgICAgIHZhciBtYXJrZXJfODg4NTc1YmI5ZDU3NDcwODhkYzFiZjViZWJkZmVjMmYgPSBMLm1hcmtlcigKICAgICAgICAgICAgWzQwLjgxMzQwMTk5MDgxMTY0LCAtNzMuNTMzOTYzMTg1Mjk4NjJdLAogICAgICAgICAgICB7CiAgICAgICAgICAgICAgICBpY29uOiBuZXcgTC5JY29uLkRlZmF1bHQoKSwKICAgICAgICAgICAgICAgIH0KICAgICAgICAgICAgKS5hZGRUbyhtYXBfMDkyYWI5YTQ0ZTNhNDdiMzkwNDYwZGYyYTU2ZDUyYWYpOwogICAgICAgIAogICAgCiAgICAgICAgICAgIHZhciBwb3B1cF85NmRlMmM2NjI0M2E0NTY4OTUxZTRiZjNmNzkyOTEyMCA9IEwucG9wdXAoe21heFdpZHRoOiAnMTAwJScKICAgICAgICAgICAgCiAgICAgICAgICAgIH0pOwoKICAgICAgICAgICAgCgogICAgICAgICAgICBtYXJrZXJfODg4NTc1YmI5ZDU3NDcwODhkYzFiZjViZWJkZmVjMmYuYmluZFBvcHVwKHBvcHVwXzk2ZGUyYzY2MjQzYTQ1Njg5NTFlNGJmM2Y3OTI5MTIwKQogICAgICAgICAgICA7CgogICAgICAgICAgICAKICAgICAgICAKPC9zY3JpcHQ+\" style=\"position:absolute;width:100%;height:100%;left:0;top:0;border:none !important;\" allowfullscreen webkitallowfullscreen mozallowfullscreen></iframe></div></div>"
            ],
            "text/plain": [
              "<folium.folium.Map at 0x7fdff60651d0>"
            ]
          },
          "metadata": {
            "tags": []
          },
          "execution_count": 14
        }
      ]
    },
    {
      "cell_type": "code",
      "metadata": {
        "id": "BhGK9qL_Q1QQ",
        "colab_type": "code",
        "colab": {}
      },
      "source": [
        "clusters = kmean.fit_predict(clus)"
      ],
      "execution_count": 0,
      "outputs": []
    },
    {
      "cell_type": "code",
      "metadata": {
        "id": "h58zu2rMYYdg",
        "colab_type": "code",
        "outputId": "ecc3dbfc-966e-43a4-b22a-38eaa1afc4e2",
        "colab": {
          "base_uri": "https://localhost:8080/",
          "height": 204
        }
      },
      "source": [
        "df['Cluster'] = pd.DataFrame(clusters)\n",
        "df.head()"
      ],
      "execution_count": 16,
      "outputs": [
        {
          "output_type": "execute_result",
          "data": {
            "text/html": [
              "<div>\n",
              "<style scoped>\n",
              "    .dataframe tbody tr th:only-of-type {\n",
              "        vertical-align: middle;\n",
              "    }\n",
              "\n",
              "    .dataframe tbody tr th {\n",
              "        vertical-align: top;\n",
              "    }\n",
              "\n",
              "    .dataframe thead th {\n",
              "        text-align: right;\n",
              "    }\n",
              "</style>\n",
              "<table border=\"1\" class=\"dataframe\">\n",
              "  <thead>\n",
              "    <tr style=\"text-align: right;\">\n",
              "      <th></th>\n",
              "      <th>Date/Time</th>\n",
              "      <th>Lat</th>\n",
              "      <th>Lon</th>\n",
              "      <th>Base</th>\n",
              "      <th>Cluster</th>\n",
              "    </tr>\n",
              "  </thead>\n",
              "  <tbody>\n",
              "    <tr>\n",
              "      <th>0</th>\n",
              "      <td>8/1/2014 0:03:00</td>\n",
              "      <td>40.7366</td>\n",
              "      <td>-73.9906</td>\n",
              "      <td>B02512</td>\n",
              "      <td>1</td>\n",
              "    </tr>\n",
              "    <tr>\n",
              "      <th>1</th>\n",
              "      <td>8/1/2014 0:09:00</td>\n",
              "      <td>40.7260</td>\n",
              "      <td>-73.9918</td>\n",
              "      <td>B02512</td>\n",
              "      <td>2</td>\n",
              "    </tr>\n",
              "    <tr>\n",
              "      <th>2</th>\n",
              "      <td>8/1/2014 0:12:00</td>\n",
              "      <td>40.7209</td>\n",
              "      <td>-74.0507</td>\n",
              "      <td>B02512</td>\n",
              "      <td>2</td>\n",
              "    </tr>\n",
              "    <tr>\n",
              "      <th>3</th>\n",
              "      <td>8/1/2014 0:12:00</td>\n",
              "      <td>40.7387</td>\n",
              "      <td>-73.9856</td>\n",
              "      <td>B02512</td>\n",
              "      <td>1</td>\n",
              "    </tr>\n",
              "    <tr>\n",
              "      <th>4</th>\n",
              "      <td>8/1/2014 0:12:00</td>\n",
              "      <td>40.7323</td>\n",
              "      <td>-74.0077</td>\n",
              "      <td>B02512</td>\n",
              "      <td>2</td>\n",
              "    </tr>\n",
              "  </tbody>\n",
              "</table>\n",
              "</div>"
            ],
            "text/plain": [
              "          Date/Time      Lat      Lon    Base  Cluster\n",
              "0  8/1/2014 0:03:00  40.7366 -73.9906  B02512        1\n",
              "1  8/1/2014 0:09:00  40.7260 -73.9918  B02512        2\n",
              "2  8/1/2014 0:12:00  40.7209 -74.0507  B02512        2\n",
              "3  8/1/2014 0:12:00  40.7387 -73.9856  B02512        1\n",
              "4  8/1/2014 0:12:00  40.7323 -74.0077  B02512        2"
            ]
          },
          "metadata": {
            "tags": []
          },
          "execution_count": 16
        }
      ]
    },
    {
      "cell_type": "code",
      "metadata": {
        "id": "vw49vjczWFFC",
        "colab_type": "code",
        "outputId": "4c34362c-bd00-4daf-bd27-5a681ef0d91c",
        "colab": {
          "base_uri": "https://localhost:8080/",
          "height": 601
        }
      },
      "source": [
        "sns.factorplot(x='Cluster', data = df, kind = 'count', size=7, aspect=2);"
      ],
      "execution_count": 17,
      "outputs": [
        {
          "output_type": "stream",
          "text": [
            "/usr/local/lib/python3.6/dist-packages/seaborn/categorical.py:3672: UserWarning: The `factorplot` function has been renamed to `catplot`. The original name will be removed in a future release. Please update your code. Note that the default `kind` in `factorplot` (`'point'`) has changed `'strip'` in `catplot`.\n",
            "  warnings.warn(msg)\n",
            "/usr/local/lib/python3.6/dist-packages/seaborn/categorical.py:3678: UserWarning: The `size` parameter has been renamed to `height`; please update your code.\n",
            "  warnings.warn(msg, UserWarning)\n"
          ],
          "name": "stderr"
        },
        {
          "output_type": "display_data",
          "data": {
            "image/png": "[encoded data removed]",
            "text/plain": [
              "<Figure size 1008x504 with 1 Axes>"
            ]
          },
          "metadata": {
            "tags": []
          }
        }
      ]
    },
    {
      "cell_type": "markdown",
      "metadata": {
        "id": "Ah5tg3gz8p4i",
        "colab_type": "text"
      },
      "source": [
        "DBSCAN"
      ]
    },
    {
      "cell_type": "code",
      "metadata": {
        "id": "aVh_0thY_oIq",
        "colab_type": "code",
        "colab": {
          "base_uri": "https://localhost:8080/",
          "height": 1000
        },
        "outputId": "c1dae7da-dc9a-46b5-9c85-40fa9f47d525"
      },
      "source": [
        "!apt-get install libgeos-3.5.0\n",
        "!apt-get install libgeos-dev\n",
        "!pip install https://github.com/matplotlib/basemap/archive/master.zip"
      ],
      "execution_count": 22,
      "outputs": [
        {
          "output_type": "stream",
          "text": [
            "Reading package lists... Done\n",
            "Building dependency tree       \n",
            "Reading state information... Done\n",
            "E: Unable to locate package libgeos-3.5.0\n",
            "E: Couldn't find any package by glob 'libgeos-3.5.0'\n",
            "E: Couldn't find any package by regex 'libgeos-3.5.0'\n",
            "Reading package lists... Done\n",
            "Building dependency tree       \n",
            "Reading state information... Done\n",
            "The following package was automatically installed and is no longer required:\n",
            "  libnvidia-common-430\n",
            "Use 'apt autoremove' to remove it.\n",
            "Suggested packages:\n",
            "  libgdal-doc\n",
            "The following NEW packages will be installed:\n",
            "  libgeos-dev\n",
            "0 upgraded, 1 newly installed, 0 to remove and 25 not upgraded.\n",
            "Need to get 73.1 kB of archives.\n",
            "After this operation, 486 kB of additional disk space will be used.\n",
            "Get:1 http://archive.ubuntu.com/ubuntu bionic/universe amd64 libgeos-dev amd64 3.6.2-1build2 [73.1 kB]\n",
            "Fetched 73.1 kB in 1s (108 kB/s)\n",
            "Selecting previously unselected package libgeos-dev.\n",
            "(Reading database ... 134443 files and directories currently installed.)\n",
            "Preparing to unpack .../libgeos-dev_3.6.2-1build2_amd64.deb ...\n",
            "Unpacking libgeos-dev (3.6.2-1build2) ...\n",
            "Setting up libgeos-dev (3.6.2-1build2) ...\n",
            "Processing triggers for man-db (2.8.3-2ubuntu0.1) ...\n",
            "Collecting https://github.com/matplotlib/basemap/archive/master.zip\n",
            "\u001b[?25l  Downloading https://github.com/matplotlib/basemap/archive/master.zip\n",
            "\u001b[K     \\ 212.1MB 35.7MB/s\n",
            "\u001b[?25hRequirement already satisfied: matplotlib!=3.0.1,>=1.0.0 in /usr/local/lib/python3.6/dist-packages (from basemap==1.2.1) (3.1.2)\n",
            "Requirement already satisfied: numpy>=1.2.1 in /usr/local/lib/python3.6/dist-packages (from basemap==1.2.1) (1.17.5)\n",
            "Collecting pyproj>=1.9.3\n",
            "\u001b[?25l  Downloading https://files.pythonhosted.org/packages/d6/70/eedc98cd52b86de24a1589c762612a98bea26cde649ffdd60c1db396cce8/pyproj-2.4.2.post1-cp36-cp36m-manylinux2010_x86_64.whl (10.1MB)\n",
            "\u001b[K     |████████████████████████████████| 10.1MB 4.3MB/s \n",
            "\u001b[?25hCollecting pyshp>=1.2.0\n",
            "\u001b[?25l  Downloading https://files.pythonhosted.org/packages/27/16/3bf15aa864fb77845fab8007eda22c2bd67bd6c1fd13496df452c8c43621/pyshp-2.1.0.tar.gz (215kB)\n",
            "\u001b[K     |████████████████████████████████| 225kB 46.2MB/s \n",
            "\u001b[?25hRequirement already satisfied: six in /usr/local/lib/python3.6/dist-packages (from basemap==1.2.1) (1.12.0)\n",
            "Requirement already satisfied: python-dateutil>=2.1 in /usr/local/lib/python3.6/dist-packages (from matplotlib!=3.0.1,>=1.0.0->basemap==1.2.1) (2.6.1)\n",
            "Requirement already satisfied: kiwisolver>=1.0.1 in /usr/local/lib/python3.6/dist-packages (from matplotlib!=3.0.1,>=1.0.0->basemap==1.2.1) (1.1.0)\n",
            "Requirement already satisfied: pyparsing!=2.0.4,!=2.1.2,!=2.1.6,>=2.0.1 in /usr/local/lib/python3.6/dist-packages (from matplotlib!=3.0.1,>=1.0.0->basemap==1.2.1) (2.4.6)\n",
            "Requirement already satisfied: cycler>=0.10 in /usr/local/lib/python3.6/dist-packages (from matplotlib!=3.0.1,>=1.0.0->basemap==1.2.1) (0.10.0)\n",
            "Requirement already satisfied: setuptools in /usr/local/lib/python3.6/dist-packages (from kiwisolver>=1.0.1->matplotlib!=3.0.1,>=1.0.0->basemap==1.2.1) (45.1.0)\n",
            "Building wheels for collected packages: basemap, pyshp\n",
            "  Building wheel for basemap (setup.py) ... \u001b[?25l\u001b[?25hdone\n",
            "  Created wheel for basemap: filename=basemap-1.2.1-cp36-cp36m-linux_x86_64.whl size=121756032 sha256=14618e8058aa6d1d5cbd733f3f6c9edc4981b104f4c8ca6ca290d8488fb910b8\n",
            "  Stored in directory: /tmp/pip-ephem-wheel-cache-7j09wqcz/wheels/98/4a/fc/ce719b75d97e646645c225f3332b1b217536100314922e9572\n",
            "  Building wheel for pyshp (setup.py) ... \u001b[?25l\u001b[?25hdone\n",
            "  Created wheel for pyshp: filename=pyshp-2.1.0-cp36-none-any.whl size=32609 sha256=3284c1fc86c81c2edc449652fcc1cc87fdc048d7fddf7c2c4cf5d132b25d0c11\n",
            "  Stored in directory: /root/.cache/pip/wheels/a6/0c/de/321b5192ad416b328975a2f0385f72c64db4656501eba7cc1a\n",
            "Successfully built basemap pyshp\n",
            "Installing collected packages: pyproj, pyshp, basemap\n",
            "Successfully installed basemap-1.2.1 pyproj-2.4.2.post1 pyshp-2.1.0\n"
          ],
          "name": "stdout"
        },
        {
          "output_type": "display_data",
          "data": {
            "application/vnd.colab-display-data+json": {
              "pip_warning": {
                "packages": [
                  "mpl_toolkits"
                ]
              }
            }
          },
          "metadata": {
            "tags": []
          }
        }
      ]
    },
    {
      "cell_type": "code",
      "metadata": {
        "id": "k_OMrTmKBNvv",
        "colab_type": "code",
        "colab": {
          "base_uri": "https://localhost:8080/",
          "height": 238
        },
        "outputId": "3ec81614-13ba-488d-d0b8-6a54447e5b2e"
      },
      "source": [
        "!pip install pyproj==1.9.6"
      ],
      "execution_count": 23,
      "outputs": [
        {
          "output_type": "stream",
          "text": [
            "Collecting pyproj==1.9.6\n",
            "\u001b[?25l  Downloading https://files.pythonhosted.org/packages/26/8c/1da0580f334718e04f8bbf74f0515a7fb8185ff96b2560ce080c11aa145b/pyproj-1.9.6.tar.gz (2.8MB)\n",
            "\u001b[K     |████████████████████████████████| 2.8MB 5.0MB/s \n",
            "\u001b[?25hBuilding wheels for collected packages: pyproj\n",
            "  Building wheel for pyproj (setup.py) ... \u001b[?25l\u001b[?25hdone\n",
            "  Created wheel for pyproj: filename=pyproj-1.9.6-cp36-cp36m-linux_x86_64.whl size=3702064 sha256=5f7c14e973e9444949ec9f29d3433615c8d66bac46f5b0668191fba979ca2df0\n",
            "  Stored in directory: /root/.cache/pip/wheels/02/cd/b1/a2d6430f74c7a778a43d62f78bec109ca69c732dc9b929142a\n",
            "Successfully built pyproj\n",
            "Installing collected packages: pyproj\n",
            "  Found existing installation: pyproj 2.4.2.post1\n",
            "    Uninstalling pyproj-2.4.2.post1:\n",
            "      Successfully uninstalled pyproj-2.4.2.post1\n",
            "Successfully installed pyproj-1.9.6\n"
          ],
          "name": "stdout"
        }
      ]
    },
    {
      "cell_type": "code",
      "metadata": {
        "id": "O4518FxXA_5n",
        "colab_type": "code",
        "colab": {
          "base_uri": "https://localhost:8080/",
          "height": 221
        },
        "outputId": "755d8a8c-62fc-4d03-9764-4d8d2d7f3265"
      },
      "source": [
        "!pip install mplleaflet"
      ],
      "execution_count": 24,
      "outputs": [
        {
          "output_type": "stream",
          "text": [
            "Collecting mplleaflet\n",
            "  Downloading https://files.pythonhosted.org/packages/05/b3/e68ff575ef0872e096878c75f602e76b06ca44d7038d69d867c7b800745b/mplleaflet-0.0.5.tar.gz\n",
            "Requirement already satisfied: jinja2 in /usr/local/lib/python3.6/dist-packages (from mplleaflet) (2.11.1)\n",
            "Requirement already satisfied: six in /usr/local/lib/python3.6/dist-packages (from mplleaflet) (1.12.0)\n",
            "Requirement already satisfied: MarkupSafe>=0.23 in /usr/local/lib/python3.6/dist-packages (from jinja2->mplleaflet) (1.1.1)\n",
            "Building wheels for collected packages: mplleaflet\n",
            "  Building wheel for mplleaflet (setup.py) ... \u001b[?25l\u001b[?25hdone\n",
            "  Created wheel for mplleaflet: filename=mplleaflet-0.0.5-cp36-none-any.whl size=28556 sha256=798570501ab7eec9f714c126116eff9c8da32d7b414ddb5fec49fbb9691ba4c0\n",
            "  Stored in directory: /root/.cache/pip/wheels/bf/fd/0b/0513de62c339c4a56e2234aa42a5d06e6660a4446fdae7b796\n",
            "Successfully built mplleaflet\n",
            "Installing collected packages: mplleaflet\n",
            "Successfully installed mplleaflet-0.0.5\n"
          ],
          "name": "stdout"
        }
      ]
    },
    {
      "cell_type": "code",
      "metadata": {
        "id": "3-cc2wJwfAN0",
        "colab_type": "code",
        "colab": {}
      },
      "source": [
        "import time\n",
        "import numpy as np\n",
        "import pandas as pd\n",
        "import seaborn as sns\n",
        "\n",
        "import matplotlib.pyplot as plt\n",
        "from mpl_toolkits.basemap import Basemap\n",
        "from matplotlib import cm\n",
        "import mplleaflet as mpl\n",
        "\n",
        "from sklearn.cluster import DBSCAN\n",
        "from geopy.distance import great_circle\n",
        "from shapely.geometry import MultiPoint"
      ],
      "execution_count": 0,
      "outputs": []
    },
    {
      "cell_type": "code",
      "metadata": {
        "id": "x3Ouj25XBYTx",
        "colab_type": "code",
        "colab": {}
      },
      "source": [
        "rides = pd.read_csv('gdrive/My Drive/CSV_Files/uber-raw-data-aug14.csv')\n",
        "rides.info()"
      ],
      "execution_count": 0,
      "outputs": []
    },
    {
      "cell_type": "code",
      "metadata": {
        "id": "4o9kbtFLFjRH",
        "colab_type": "code",
        "outputId": "9ef6833b-89b4-4520-8225-7330bc2d58cc",
        "colab": {
          "base_uri": "https://localhost:8080/",
          "height": 204
        }
      },
      "source": [
        "rides.head()"
      ],
      "execution_count": 27,
      "outputs": [
        {
          "output_type": "execute_result",
          "data": {
            "text/html": [
              "<div>\n",
              "<style scoped>\n",
              "    .dataframe tbody tr th:only-of-type {\n",
              "        vertical-align: middle;\n",
              "    }\n",
              "\n",
              "    .dataframe tbody tr th {\n",
              "        vertical-align: top;\n",
              "    }\n",
              "\n",
              "    .dataframe thead th {\n",
              "        text-align: right;\n",
              "    }\n",
              "</style>\n",
              "<table border=\"1\" class=\"dataframe\">\n",
              "  <thead>\n",
              "    <tr style=\"text-align: right;\">\n",
              "      <th></th>\n",
              "      <th>Date/Time</th>\n",
              "      <th>Lat</th>\n",
              "      <th>Lon</th>\n",
              "      <th>Base</th>\n",
              "    </tr>\n",
              "  </thead>\n",
              "  <tbody>\n",
              "    <tr>\n",
              "      <th>0</th>\n",
              "      <td>8/1/2014 0:03:00</td>\n",
              "      <td>40.7366</td>\n",
              "      <td>-73.9906</td>\n",
              "      <td>B02512</td>\n",
              "    </tr>\n",
              "    <tr>\n",
              "      <th>1</th>\n",
              "      <td>8/1/2014 0:09:00</td>\n",
              "      <td>40.7260</td>\n",
              "      <td>-73.9918</td>\n",
              "      <td>B02512</td>\n",
              "    </tr>\n",
              "    <tr>\n",
              "      <th>2</th>\n",
              "      <td>8/1/2014 0:12:00</td>\n",
              "      <td>40.7209</td>\n",
              "      <td>-74.0507</td>\n",
              "      <td>B02512</td>\n",
              "    </tr>\n",
              "    <tr>\n",
              "      <th>3</th>\n",
              "      <td>8/1/2014 0:12:00</td>\n",
              "      <td>40.7387</td>\n",
              "      <td>-73.9856</td>\n",
              "      <td>B02512</td>\n",
              "    </tr>\n",
              "    <tr>\n",
              "      <th>4</th>\n",
              "      <td>8/1/2014 0:12:00</td>\n",
              "      <td>40.7323</td>\n",
              "      <td>-74.0077</td>\n",
              "      <td>B02512</td>\n",
              "    </tr>\n",
              "  </tbody>\n",
              "</table>\n",
              "</div>"
            ],
            "text/plain": [
              "          Date/Time      Lat      Lon    Base\n",
              "0  8/1/2014 0:03:00  40.7366 -73.9906  B02512\n",
              "1  8/1/2014 0:09:00  40.7260 -73.9918  B02512\n",
              "2  8/1/2014 0:12:00  40.7209 -74.0507  B02512\n",
              "3  8/1/2014 0:12:00  40.7387 -73.9856  B02512\n",
              "4  8/1/2014 0:12:00  40.7323 -74.0077  B02512"
            ]
          },
          "metadata": {
            "tags": []
          },
          "execution_count": 27
        }
      ]
    },
    {
      "cell_type": "code",
      "metadata": {
        "id": "dJX_iM3KMu4C",
        "colab_type": "code",
        "outputId": "d48cebde-be36-4a06-a91e-441d1a5038ca",
        "colab": {
          "base_uri": "https://localhost:8080/",
          "height": 204
        }
      },
      "source": [
        "rides.columns = ['timestamp', 'lat', 'lon', 'base']\n",
        "rides.head()"
      ],
      "execution_count": 28,
      "outputs": [
        {
          "output_type": "execute_result",
          "data": {
            "text/html": [
              "<div>\n",
              "<style scoped>\n",
              "    .dataframe tbody tr th:only-of-type {\n",
              "        vertical-align: middle;\n",
              "    }\n",
              "\n",
              "    .dataframe tbody tr th {\n",
              "        vertical-align: top;\n",
              "    }\n",
              "\n",
              "    .dataframe thead th {\n",
              "        text-align: right;\n",
              "    }\n",
              "</style>\n",
              "<table border=\"1\" class=\"dataframe\">\n",
              "  <thead>\n",
              "    <tr style=\"text-align: right;\">\n",
              "      <th></th>\n",
              "      <th>timestamp</th>\n",
              "      <th>lat</th>\n",
              "      <th>lon</th>\n",
              "      <th>base</th>\n",
              "    </tr>\n",
              "  </thead>\n",
              "  <tbody>\n",
              "    <tr>\n",
              "      <th>0</th>\n",
              "      <td>8/1/2014 0:03:00</td>\n",
              "      <td>40.7366</td>\n",
              "      <td>-73.9906</td>\n",
              "      <td>B02512</td>\n",
              "    </tr>\n",
              "    <tr>\n",
              "      <th>1</th>\n",
              "      <td>8/1/2014 0:09:00</td>\n",
              "      <td>40.7260</td>\n",
              "      <td>-73.9918</td>\n",
              "      <td>B02512</td>\n",
              "    </tr>\n",
              "    <tr>\n",
              "      <th>2</th>\n",
              "      <td>8/1/2014 0:12:00</td>\n",
              "      <td>40.7209</td>\n",
              "      <td>-74.0507</td>\n",
              "      <td>B02512</td>\n",
              "    </tr>\n",
              "    <tr>\n",
              "      <th>3</th>\n",
              "      <td>8/1/2014 0:12:00</td>\n",
              "      <td>40.7387</td>\n",
              "      <td>-73.9856</td>\n",
              "      <td>B02512</td>\n",
              "    </tr>\n",
              "    <tr>\n",
              "      <th>4</th>\n",
              "      <td>8/1/2014 0:12:00</td>\n",
              "      <td>40.7323</td>\n",
              "      <td>-74.0077</td>\n",
              "      <td>B02512</td>\n",
              "    </tr>\n",
              "  </tbody>\n",
              "</table>\n",
              "</div>"
            ],
            "text/plain": [
              "          timestamp      lat      lon    base\n",
              "0  8/1/2014 0:03:00  40.7366 -73.9906  B02512\n",
              "1  8/1/2014 0:09:00  40.7260 -73.9918  B02512\n",
              "2  8/1/2014 0:12:00  40.7209 -74.0507  B02512\n",
              "3  8/1/2014 0:12:00  40.7387 -73.9856  B02512\n",
              "4  8/1/2014 0:12:00  40.7323 -74.0077  B02512"
            ]
          },
          "metadata": {
            "tags": []
          },
          "execution_count": 28
        }
      ]
    },
    {
      "cell_type": "code",
      "metadata": {
        "id": "qdSPZZddM-Dq",
        "colab_type": "code",
        "colab": {}
      },
      "source": [
        "rides['timestamp'] = pd.to_datetime(rides['timestamp'])"
      ],
      "execution_count": 0,
      "outputs": []
    },
    {
      "cell_type": "code",
      "metadata": {
        "id": "F0sE_c9tN4yR",
        "colab_type": "code",
        "colab": {}
      },
      "source": [
        "#rides.timestamp"
      ],
      "execution_count": 0,
      "outputs": []
    },
    {
      "cell_type": "code",
      "metadata": {
        "id": "xYRd3l8dOgGB",
        "colab_type": "code",
        "outputId": "6d7478d3-deb8-4c4c-edc9-921655372176",
        "colab": {
          "base_uri": "https://localhost:8080/",
          "height": 204
        }
      },
      "source": [
        "rides['weekday'] = rides.timestamp.dt.weekday_name\n",
        "rides['month']   = rides.timestamp.dt.month\n",
        "rides['day']     = rides.timestamp.dt.day\n",
        "rides['hour']    = rides.timestamp.dt.hour\n",
        "rides.head()"
      ],
      "execution_count": 30,
      "outputs": [
        {
          "output_type": "execute_result",
          "data": {
            "text/html": [
              "<div>\n",
              "<style scoped>\n",
              "    .dataframe tbody tr th:only-of-type {\n",
              "        vertical-align: middle;\n",
              "    }\n",
              "\n",
              "    .dataframe tbody tr th {\n",
              "        vertical-align: top;\n",
              "    }\n",
              "\n",
              "    .dataframe thead th {\n",
              "        text-align: right;\n",
              "    }\n",
              "</style>\n",
              "<table border=\"1\" class=\"dataframe\">\n",
              "  <thead>\n",
              "    <tr style=\"text-align: right;\">\n",
              "      <th></th>\n",
              "      <th>timestamp</th>\n",
              "      <th>lat</th>\n",
              "      <th>lon</th>\n",
              "      <th>base</th>\n",
              "      <th>weekday</th>\n",
              "      <th>month</th>\n",
              "      <th>day</th>\n",
              "      <th>hour</th>\n",
              "    </tr>\n",
              "  </thead>\n",
              "  <tbody>\n",
              "    <tr>\n",
              "      <th>0</th>\n",
              "      <td>2014-08-01 00:03:00</td>\n",
              "      <td>40.7366</td>\n",
              "      <td>-73.9906</td>\n",
              "      <td>B02512</td>\n",
              "      <td>Friday</td>\n",
              "      <td>8</td>\n",
              "      <td>1</td>\n",
              "      <td>0</td>\n",
              "    </tr>\n",
              "    <tr>\n",
              "      <th>1</th>\n",
              "      <td>2014-08-01 00:09:00</td>\n",
              "      <td>40.7260</td>\n",
              "      <td>-73.9918</td>\n",
              "      <td>B02512</td>\n",
              "      <td>Friday</td>\n",
              "      <td>8</td>\n",
              "      <td>1</td>\n",
              "      <td>0</td>\n",
              "    </tr>\n",
              "    <tr>\n",
              "      <th>2</th>\n",
              "      <td>2014-08-01 00:12:00</td>\n",
              "      <td>40.7209</td>\n",
              "      <td>-74.0507</td>\n",
              "      <td>B02512</td>\n",
              "      <td>Friday</td>\n",
              "      <td>8</td>\n",
              "      <td>1</td>\n",
              "      <td>0</td>\n",
              "    </tr>\n",
              "    <tr>\n",
              "      <th>3</th>\n",
              "      <td>2014-08-01 00:12:00</td>\n",
              "      <td>40.7387</td>\n",
              "      <td>-73.9856</td>\n",
              "      <td>B02512</td>\n",
              "      <td>Friday</td>\n",
              "      <td>8</td>\n",
              "      <td>1</td>\n",
              "      <td>0</td>\n",
              "    </tr>\n",
              "    <tr>\n",
              "      <th>4</th>\n",
              "      <td>2014-08-01 00:12:00</td>\n",
              "      <td>40.7323</td>\n",
              "      <td>-74.0077</td>\n",
              "      <td>B02512</td>\n",
              "      <td>Friday</td>\n",
              "      <td>8</td>\n",
              "      <td>1</td>\n",
              "      <td>0</td>\n",
              "    </tr>\n",
              "  </tbody>\n",
              "</table>\n",
              "</div>"
            ],
            "text/plain": [
              "            timestamp      lat      lon    base weekday  month  day  hour\n",
              "0 2014-08-01 00:03:00  40.7366 -73.9906  B02512  Friday      8    1     0\n",
              "1 2014-08-01 00:09:00  40.7260 -73.9918  B02512  Friday      8    1     0\n",
              "2 2014-08-01 00:12:00  40.7209 -74.0507  B02512  Friday      8    1     0\n",
              "3 2014-08-01 00:12:00  40.7387 -73.9856  B02512  Friday      8    1     0\n",
              "4 2014-08-01 00:12:00  40.7323 -74.0077  B02512  Friday      8    1     0"
            ]
          },
          "metadata": {
            "tags": []
          },
          "execution_count": 30
        }
      ]
    },
    {
      "cell_type": "code",
      "metadata": {
        "id": "YUJUpYLxZnlt",
        "colab_type": "code",
        "colab": {}
      },
      "source": [
        "day_map = ['Monday', 'Tuesday', 'Wednesday', 'Thursday', 'Friday', 'Saturday', 'Sunday']\n",
        "rides['weekday'] = pd.Categorical(rides['weekday'], categories=day_map, ordered=True)"
      ],
      "execution_count": 0,
      "outputs": []
    },
    {
      "cell_type": "code",
      "metadata": {
        "id": "ZAYBEuQsZrLK",
        "colab_type": "code",
        "outputId": "37f3d965-2bf1-4e4b-f9e8-21ebfb6c629c",
        "colab": {
          "base_uri": "https://localhost:8080/",
          "height": 136
        }
      },
      "source": [
        "rides.weekday.tail()"
      ],
      "execution_count": 32,
      "outputs": [
        {
          "output_type": "execute_result",
          "data": {
            "text/plain": [
              "829270    Sunday\n",
              "829271    Sunday\n",
              "829272    Sunday\n",
              "829273    Sunday\n",
              "829274    Sunday\n",
              "Name: weekday, dtype: category\n",
              "Categories (7, object): [Monday < Tuesday < Wednesday < Thursday < Friday < Saturday < Sunday]"
            ]
          },
          "metadata": {
            "tags": []
          },
          "execution_count": 32
        }
      ]
    },
    {
      "cell_type": "code",
      "metadata": {
        "id": "wzchB8NA51yz",
        "colab_type": "code",
        "outputId": "efe7f05a-d792-47e3-d14d-f2ec893ef260",
        "colab": {
          "base_uri": "https://localhost:8080/",
          "height": 136
        }
      },
      "source": [
        "hourly_ride_data = rides.groupby(['day', 'hour', 'weekday'])['timestamp'].count()\n",
        "hourly_ride_data.head()"
      ],
      "execution_count": 33,
      "outputs": [
        {
          "output_type": "execute_result",
          "data": {
            "text/plain": [
              "day  hour  weekday\n",
              "1    0     Friday     734\n",
              "     1     Friday     451\n",
              "     2     Friday     289\n",
              "     3     Friday     318\n",
              "     4     Friday     412\n",
              "Name: timestamp, dtype: int64"
            ]
          },
          "metadata": {
            "tags": []
          },
          "execution_count": 33
        }
      ]
    },
    {
      "cell_type": "code",
      "metadata": {
        "id": "LVjWL9v8AxI3",
        "colab_type": "code",
        "colab": {}
      },
      "source": [
        "hourly_ride_data = hourly_ride_data.reset_index()"
      ],
      "execution_count": 0,
      "outputs": []
    },
    {
      "cell_type": "code",
      "metadata": {
        "id": "yCTV5FKlCjik",
        "colab_type": "code",
        "colab": {}
      },
      "source": [
        "hourly_ride_data = hourly_ride_data.rename(columns={'timestamp':'ride_count'})"
      ],
      "execution_count": 0,
      "outputs": []
    },
    {
      "cell_type": "code",
      "metadata": {
        "id": "o4QcAGgiDiTS",
        "colab_type": "code",
        "outputId": "84eac0fc-6e58-4819-b340-3d0867726f55",
        "colab": {
          "base_uri": "https://localhost:8080/",
          "height": 204
        }
      },
      "source": [
        "hourly_ride_data.head()"
      ],
      "execution_count": 36,
      "outputs": [
        {
          "output_type": "execute_result",
          "data": {
            "text/html": [
              "<div>\n",
              "<style scoped>\n",
              "    .dataframe tbody tr th:only-of-type {\n",
              "        vertical-align: middle;\n",
              "    }\n",
              "\n",
              "    .dataframe tbody tr th {\n",
              "        vertical-align: top;\n",
              "    }\n",
              "\n",
              "    .dataframe thead th {\n",
              "        text-align: right;\n",
              "    }\n",
              "</style>\n",
              "<table border=\"1\" class=\"dataframe\">\n",
              "  <thead>\n",
              "    <tr style=\"text-align: right;\">\n",
              "      <th></th>\n",
              "      <th>day</th>\n",
              "      <th>hour</th>\n",
              "      <th>weekday</th>\n",
              "      <th>ride_count</th>\n",
              "    </tr>\n",
              "  </thead>\n",
              "  <tbody>\n",
              "    <tr>\n",
              "      <th>0</th>\n",
              "      <td>1</td>\n",
              "      <td>0</td>\n",
              "      <td>Friday</td>\n",
              "      <td>734</td>\n",
              "    </tr>\n",
              "    <tr>\n",
              "      <th>1</th>\n",
              "      <td>1</td>\n",
              "      <td>1</td>\n",
              "      <td>Friday</td>\n",
              "      <td>451</td>\n",
              "    </tr>\n",
              "    <tr>\n",
              "      <th>2</th>\n",
              "      <td>1</td>\n",
              "      <td>2</td>\n",
              "      <td>Friday</td>\n",
              "      <td>289</td>\n",
              "    </tr>\n",
              "    <tr>\n",
              "      <th>3</th>\n",
              "      <td>1</td>\n",
              "      <td>3</td>\n",
              "      <td>Friday</td>\n",
              "      <td>318</td>\n",
              "    </tr>\n",
              "    <tr>\n",
              "      <th>4</th>\n",
              "      <td>1</td>\n",
              "      <td>4</td>\n",
              "      <td>Friday</td>\n",
              "      <td>412</td>\n",
              "    </tr>\n",
              "  </tbody>\n",
              "</table>\n",
              "</div>"
            ],
            "text/plain": [
              "   day  hour weekday  ride_count\n",
              "0    1     0  Friday         734\n",
              "1    1     1  Friday         451\n",
              "2    1     2  Friday         289\n",
              "3    1     3  Friday         318\n",
              "4    1     4  Friday         412"
            ]
          },
          "metadata": {
            "tags": []
          },
          "execution_count": 36
        }
      ]
    },
    {
      "cell_type": "code",
      "metadata": {
        "id": "lyWj_EH1Dn4z",
        "colab_type": "code",
        "outputId": "dcfd520d-8480-4e65-9b99-8f5d6e2e03c4",
        "colab": {
          "base_uri": "https://localhost:8080/",
          "height": 204
        }
      },
      "source": [
        "weekday_hourly_avg = hourly_ride_data.groupby(['weekday','hour'])['ride_count'].mean()\n",
        "weekday_hourly_avg = weekday_hourly_avg.reset_index()\n",
        "weekday_hourly_avg = weekday_hourly_avg.rename(columns={'ride_count':'average_rides'})\n",
        "weekday_hourly_avg = weekday_hourly_avg.sort_index()\n",
        "weekday_hourly_avg.shape\n",
        "weekday_hourly_avg.head()"
      ],
      "execution_count": 37,
      "outputs": [
        {
          "output_type": "execute_result",
          "data": {
            "text/html": [
              "<div>\n",
              "<style scoped>\n",
              "    .dataframe tbody tr th:only-of-type {\n",
              "        vertical-align: middle;\n",
              "    }\n",
              "\n",
              "    .dataframe tbody tr th {\n",
              "        vertical-align: top;\n",
              "    }\n",
              "\n",
              "    .dataframe thead th {\n",
              "        text-align: right;\n",
              "    }\n",
              "</style>\n",
              "<table border=\"1\" class=\"dataframe\">\n",
              "  <thead>\n",
              "    <tr style=\"text-align: right;\">\n",
              "      <th></th>\n",
              "      <th>weekday</th>\n",
              "      <th>hour</th>\n",
              "      <th>average_rides</th>\n",
              "    </tr>\n",
              "  </thead>\n",
              "  <tbody>\n",
              "    <tr>\n",
              "      <th>0</th>\n",
              "      <td>Monday</td>\n",
              "      <td>0</td>\n",
              "      <td>273.5</td>\n",
              "    </tr>\n",
              "    <tr>\n",
              "      <th>1</th>\n",
              "      <td>Monday</td>\n",
              "      <td>1</td>\n",
              "      <td>171.0</td>\n",
              "    </tr>\n",
              "    <tr>\n",
              "      <th>2</th>\n",
              "      <td>Monday</td>\n",
              "      <td>2</td>\n",
              "      <td>140.0</td>\n",
              "    </tr>\n",
              "    <tr>\n",
              "      <th>3</th>\n",
              "      <td>Monday</td>\n",
              "      <td>3</td>\n",
              "      <td>296.5</td>\n",
              "    </tr>\n",
              "    <tr>\n",
              "      <th>4</th>\n",
              "      <td>Monday</td>\n",
              "      <td>4</td>\n",
              "      <td>459.0</td>\n",
              "    </tr>\n",
              "  </tbody>\n",
              "</table>\n",
              "</div>"
            ],
            "text/plain": [
              "  weekday  hour  average_rides\n",
              "0  Monday     0          273.5\n",
              "1  Monday     1          171.0\n",
              "2  Monday     2          140.0\n",
              "3  Monday     3          296.5\n",
              "4  Monday     4          459.0"
            ]
          },
          "metadata": {
            "tags": []
          },
          "execution_count": 37
        }
      ]
    },
    {
      "cell_type": "code",
      "metadata": {
        "id": "4D49z2tqIk8n",
        "colab_type": "code",
        "outputId": "9ed50aea-d3f2-4b7e-85a0-ad9f115007be",
        "colab": {
          "base_uri": "https://localhost:8080/",
          "height": 34
        }
      },
      "source": [
        "weekday_hourly_avg.shape"
      ],
      "execution_count": 38,
      "outputs": [
        {
          "output_type": "execute_result",
          "data": {
            "text/plain": [
              "(168, 3)"
            ]
          },
          "metadata": {
            "tags": []
          },
          "execution_count": 38
        }
      ]
    },
    {
      "cell_type": "code",
      "metadata": {
        "id": "7gY7Gi2dQzOr",
        "colab_type": "code",
        "colab": {}
      },
      "source": [
        "color_description = [(0, 107, 164), (255, 128, 14), (171, 171, 171), (89, 89, 89),\n",
        "             (95, 158, 209), (200, 82, 0), (137, 137, 137), (163, 200, 236),\n",
        "             (255, 188, 121), (207, 207, 207) ]\n",
        "for i in range(len(color_description)):\n",
        "  r, g, b = color_description[i]\n",
        "  color_description[i] = (r/255., g/255., b/255.)"
      ],
      "execution_count": 0,
      "outputs": []
    },
    {
      "cell_type": "code",
      "metadata": {
        "id": "XmBg1-0RYzHP",
        "colab_type": "code",
        "outputId": "89860e93-c0f9-4b06-c85f-b7a9c4b73944",
        "colab": {
          "base_uri": "https://localhost:8080/",
          "height": 443
        }
      },
      "source": [
        "fig, ax = plt.subplots(figsize=(12,6))\n",
        "current_palette = sns.color_palette(color_description)\n",
        "sns.pointplot(ax=ax, x = 'hour', y = 'average_rides', hue='weekday',\n",
        "              palette = current_palette, data = weekday_hourly_avg);\n",
        "\n",
        "\n",
        "ax.set_title('Weekday Averages for August 2014', fontsize=30)\n",
        "ax.set_ylabel('Rides per Hour', fontsize=20)\n",
        "ax.set_xlabel('Hour', fontsize=20)"
      ],
      "execution_count": 40,
      "outputs": [
        {
          "output_type": "execute_result",
          "data": {
            "text/plain": [
              "Text(0.5, 0, 'Hour')"
            ]
          },
          "metadata": {
            "tags": []
          },
          "execution_count": 40
        },
        {
          "output_type": "display_data",
          "data": {
            "image/png": "[encoded data removed]",
            "text/plain": [
              "<Figure size 864x432 with 1 Axes>"
            ]
          },
          "metadata": {
            "tags": []
          }
        }
      ]
    },
    {
      "cell_type": "code",
      "metadata": {
        "id": "tzcvc7VHZHao",
        "colab_type": "code",
        "colab": {}
      },
      "source": [
        "def get_hot_spots(max_distance,min_cars,ride_data):\n",
        "    \n",
        "    ## get coordinates from ride data\n",
        "    coords = ride_data.as_matrix(columns=['lat', 'lon'])\n",
        "    \n",
        "    ## calculate epsilon parameter using\n",
        "    ## the user defined distance\n",
        "    kms_per_radian = 6371.0088\n",
        "    epsilon = max_distance / kms_per_radian\n",
        "    \n",
        "    ## perform clustering\n",
        "    db = DBSCAN(eps=epsilon, min_samples=min_cars,\n",
        "                algorithm='ball_tree', metric='haversine').fit(np.radians(coords))\n",
        "    \n",
        "    ## group the clusters\n",
        "    cluster_labels = db.labels_\n",
        "    num_clusters = len(set(cluster_labels))\n",
        "    clusters = pd.Series([coords[cluster_labels == n] for n in range(num_clusters)])\n",
        "    \n",
        "    ## report\n",
        "    print('Number of clusters: {}'.format(num_clusters))\n",
        "    \n",
        "    ## initialize lists for hot spots\n",
        "    lat = []\n",
        "    lon = []\n",
        "    num_members = []\n",
        "    \n",
        "    ## loop through clusters and get centroids, number of members\n",
        "    for ii in range(len(clusters)):\n",
        "\n",
        "        ## filter empty clusters\n",
        "        if clusters[ii].any():\n",
        "\n",
        "            ## get centroid and magnitude of cluster\n",
        "            lat.append(MultiPoint(clusters[ii]).centroid.x)\n",
        "            lon.append(MultiPoint(clusters[ii]).centroid.y)\n",
        "            num_members.append(len(clusters[ii]))\n",
        "            \n",
        "    hot_spots = [lon,lat,num_members]\n",
        "    #print(coords)\n",
        "    #print(clusters)\n",
        "    \n",
        "    return hot_spots"
      ],
      "execution_count": 0,
      "outputs": []
    },
    {
      "cell_type": "code",
      "metadata": {
        "id": "m46HV7Vz4WHY",
        "colab_type": "code",
        "outputId": "de8eef98-99d2-4c21-daff-2d58c0e0f6f5",
        "colab": {
          "base_uri": "https://localhost:8080/",
          "height": 85
        }
      },
      "source": [
        "## get ride data\n",
        "\n",
        "#ride_data = rides.loc[(rides['weekday']== 'Saturday') & (rides['hour'] > 0) & (rides['hour'] < 4)]\n",
        "ride_data = rides.loc[(rides['weekday']== 'Monday') & (rides['hour'] > 7) & (rides['hour'] < 10)]\n",
        "\n",
        "## maximum distance between two cluster members in kilometers\n",
        "max_distance = 0.05\n",
        "\n",
        "## minimum number of cluster members\n",
        "min_pickups = 25\n",
        "\n",
        "## call the get_hot_spots function\n",
        "hot_spots = get_hot_spots(max_distance ,min_pickups, ride_data)\n",
        "print('Number of rides in cluster 0:  {}' .format(hot_spots[2][0]))"
      ],
      "execution_count": 42,
      "outputs": [
        {
          "output_type": "stream",
          "text": [
            "/usr/local/lib/python3.6/dist-packages/ipykernel_launcher.py:4: FutureWarning: Method .as_matrix will be removed in a future version. Use .values instead.\n",
            "  after removing the cwd from sys.path.\n"
          ],
          "name": "stderr"
        },
        {
          "output_type": "stream",
          "text": [
            "Number of clusters: 10\n",
            "Number of rides in cluster 0:  218\n"
          ],
          "name": "stdout"
        }
      ]
    },
    {
      "cell_type": "code",
      "metadata": {
        "id": "w3puaWxo7leT",
        "colab_type": "code",
        "outputId": "122ce5ee-9861-499b-ab55-fda3cadb4526",
        "colab": {
          "base_uri": "https://localhost:8080/",
          "height": 525
        }
      },
      "source": [
        "## make the figure\n",
        "fig, ax = plt.subplots(figsize=(14,8))\n",
        "\n",
        "## set the color scale\n",
        "color_scale = np.log(hot_spots[2])\n",
        "\n",
        "## make the scatter plot\n",
        "plt.scatter(hot_spots[0], hot_spots[1],s=80,c=color_scale,cmap=cm.cool)\n",
        "plt.title('Centroids for DBSCAN')\n",
        "\n",
        "## display the Leaflet\n",
        "# mpl.show()     # opens in a new interactive tab\n",
        "mpl.display()  # shows interactive map inline in Jupyter but cannot handle large data sets"
      ],
      "execution_count": 43,
      "outputs": [
        {
          "output_type": "execute_result",
          "data": {
            "text/html": [
              "<iframe src=\"data:text/html;base64,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\" width=\"100%\" height=\"480\"></iframe>"
            ],
            "text/plain": [
              "<IPython.core.display.HTML object>"
            ]
          },
          "metadata": {
            "tags": []
          },
          "execution_count": 43
        }
      ]
    },
    {
      "cell_type": "code",
      "metadata": {
        "id": "8mJp0eaD-h4C",
        "colab_type": "code",
        "colab": {}
      },
      "source": [
        ""
      ],
      "execution_count": 0,
      "outputs": []
    }
  ]
}