{
  "nbformat": 4,
  "nbformat_minor": 0,
  "metadata": {
    "colab": {
      "name": "Challenge_Fradulent_Activities.ipynb",
      "provenance": [],
      "collapsed_sections": [],
      "machine_shape": "hm"
    },
    "kernelspec": {
      "name": "python3",
      "display_name": "Python 3"
    }
  },
  "cells": [
    {
      "cell_type": "code",
      "metadata": {
        "id": "gGho8fzsAU1O",
        "colab_type": "code",
        "outputId": "4057c94d-d959-45f2-c16f-27a56e838745",
        "colab": {
          "base_uri": "https://localhost:8080/",
          "height": 128
        }
      },
      "source": [
        "from google.colab import drive\n",
        "drive.mount('/content/gdrive')"
      ],
      "execution_count": 0,
      "outputs": [
        {
          "output_type": "stream",
          "text": [
            "Go to this URL in a browser: https://accounts.google.com/o/oauth2/auth?client_id=947318989803-6bn6qk8qdgf4n4g3pfee6491hc0brc4i.apps.googleusercontent.com&redirect_uri=urn%3aietf%3awg%3aoauth%3a2.0%3aoob&response_type=code&scope=email%20https%3a%2f%2fwww.googleapis.com%2fauth%2fdocs.test%20https%3a%2f%2fwww.googleapis.com%2fauth%2fdrive%20https%3a%2f%2fwww.googleapis.com%2fauth%2fdrive.photos.readonly%20https%3a%2f%2fwww.googleapis.com%2fauth%2fpeopleapi.readonly\n",
            "\n",
            "Enter your authorization code:\n",
            "··········\n",
            "Mounted at /content/gdrive\n"
          ],
          "name": "stdout"
        }
      ]
    },
    {
      "cell_type": "code",
      "metadata": {
        "id": "Kx9gXKHhBWu2",
        "colab_type": "code",
        "colab": {}
      },
      "source": [
        "import pandas as pd\n",
        "import numpy as np\n",
        "import seaborn as sns\n",
        "import datetime \n",
        "import calendar\n",
        "import matplotlib.pyplot as plt\n",
        "from sklearn.model_selection import train_test_split\n",
        "from sklearn.preprocessing import StandardScaler\n",
        "from sklearn.ensemble import RandomForestClassifier\n",
        "from sklearn.metrics import confusion_matrix"
      ],
      "execution_count": 0,
      "outputs": []
    },
    {
      "cell_type": "code",
      "metadata": {
        "id": "cgn0FF4VA-Vw",
        "colab_type": "code",
        "colab": {}
      },
      "source": [
        "df_fraud = pd.read_csv('gdrive/My Drive/CSV_Files/Fraud_Data.csv')\n",
        "df_ip    = pd.read_csv('gdrive/My Drive/CSV_Files/IpAddress_to_Country.csv')"
      ],
      "execution_count": 0,
      "outputs": []
    },
    {
      "cell_type": "code",
      "metadata": {
        "id": "y-aAb0zgCowC",
        "colab_type": "code",
        "outputId": "f3782401-3a94-4a1e-c993-67d2cba4140f",
        "colab": {
          "base_uri": "https://localhost:8080/",
          "height": 305
        }
      },
      "source": [
        "df = pd.concat([df_fraud, df_ip], axis = 1)\n",
        "df.head()"
      ],
      "execution_count": 0,
      "outputs": [
        {
          "output_type": "execute_result",
          "data": {
            "text/html": [
              "<div>\n",
              "<style scoped>\n",
              "    .dataframe tbody tr th:only-of-type {\n",
              "        vertical-align: middle;\n",
              "    }\n",
              "\n",
              "    .dataframe tbody tr th {\n",
              "        vertical-align: top;\n",
              "    }\n",
              "\n",
              "    .dataframe thead th {\n",
              "        text-align: right;\n",
              "    }\n",
              "</style>\n",
              "<table border=\"1\" class=\"dataframe\">\n",
              "  <thead>\n",
              "    <tr style=\"text-align: right;\">\n",
              "      <th></th>\n",
              "      <th>user_id</th>\n",
              "      <th>signup_time</th>\n",
              "      <th>purchase_time</th>\n",
              "      <th>purchase_value</th>\n",
              "      <th>device_id</th>\n",
              "      <th>source</th>\n",
              "      <th>browser</th>\n",
              "      <th>sex</th>\n",
              "      <th>age</th>\n",
              "      <th>ip_address</th>\n",
              "      <th>class</th>\n",
              "      <th>lower_bound_ip_address</th>\n",
              "      <th>upper_bound_ip_address</th>\n",
              "      <th>country</th>\n",
              "    </tr>\n",
              "  </thead>\n",
              "  <tbody>\n",
              "    <tr>\n",
              "      <th>0</th>\n",
              "      <td>22058</td>\n",
              "      <td>2015-02-24 22:55:49</td>\n",
              "      <td>2015-04-18 02:47:11</td>\n",
              "      <td>34</td>\n",
              "      <td>QVPSPJUOCKZAR</td>\n",
              "      <td>SEO</td>\n",
              "      <td>Chrome</td>\n",
              "      <td>M</td>\n",
              "      <td>39</td>\n",
              "      <td>7.327584e+08</td>\n",
              "      <td>0</td>\n",
              "      <td>16777216.0</td>\n",
              "      <td>16777471.0</td>\n",
              "      <td>Australia</td>\n",
              "    </tr>\n",
              "    <tr>\n",
              "      <th>1</th>\n",
              "      <td>333320</td>\n",
              "      <td>2015-06-07 20:39:50</td>\n",
              "      <td>2015-06-08 01:38:54</td>\n",
              "      <td>16</td>\n",
              "      <td>EOGFQPIZPYXFZ</td>\n",
              "      <td>Ads</td>\n",
              "      <td>Chrome</td>\n",
              "      <td>F</td>\n",
              "      <td>53</td>\n",
              "      <td>3.503114e+08</td>\n",
              "      <td>0</td>\n",
              "      <td>16777472.0</td>\n",
              "      <td>16777727.0</td>\n",
              "      <td>China</td>\n",
              "    </tr>\n",
              "    <tr>\n",
              "      <th>2</th>\n",
              "      <td>1359</td>\n",
              "      <td>2015-01-01 18:52:44</td>\n",
              "      <td>2015-01-01 18:52:45</td>\n",
              "      <td>15</td>\n",
              "      <td>YSSKYOSJHPPLJ</td>\n",
              "      <td>SEO</td>\n",
              "      <td>Opera</td>\n",
              "      <td>M</td>\n",
              "      <td>53</td>\n",
              "      <td>2.621474e+09</td>\n",
              "      <td>1</td>\n",
              "      <td>16777728.0</td>\n",
              "      <td>16778239.0</td>\n",
              "      <td>China</td>\n",
              "    </tr>\n",
              "    <tr>\n",
              "      <th>3</th>\n",
              "      <td>150084</td>\n",
              "      <td>2015-04-28 21:13:25</td>\n",
              "      <td>2015-05-04 13:54:50</td>\n",
              "      <td>44</td>\n",
              "      <td>ATGTXKYKUDUQN</td>\n",
              "      <td>SEO</td>\n",
              "      <td>Safari</td>\n",
              "      <td>M</td>\n",
              "      <td>41</td>\n",
              "      <td>3.840542e+09</td>\n",
              "      <td>0</td>\n",
              "      <td>16778240.0</td>\n",
              "      <td>16779263.0</td>\n",
              "      <td>Australia</td>\n",
              "    </tr>\n",
              "    <tr>\n",
              "      <th>4</th>\n",
              "      <td>221365</td>\n",
              "      <td>2015-07-21 07:09:52</td>\n",
              "      <td>2015-09-09 18:40:53</td>\n",
              "      <td>39</td>\n",
              "      <td>NAUITBZFJKHWW</td>\n",
              "      <td>Ads</td>\n",
              "      <td>Safari</td>\n",
              "      <td>M</td>\n",
              "      <td>45</td>\n",
              "      <td>4.155831e+08</td>\n",
              "      <td>0</td>\n",
              "      <td>16779264.0</td>\n",
              "      <td>16781311.0</td>\n",
              "      <td>China</td>\n",
              "    </tr>\n",
              "  </tbody>\n",
              "</table>\n",
              "</div>"
            ],
            "text/plain": [
              "   user_id          signup_time  ... upper_bound_ip_address    country\n",
              "0    22058  2015-02-24 22:55:49  ...             16777471.0  Australia\n",
              "1   333320  2015-06-07 20:39:50  ...             16777727.0      China\n",
              "2     1359  2015-01-01 18:52:44  ...             16778239.0      China\n",
              "3   150084  2015-04-28 21:13:25  ...             16779263.0  Australia\n",
              "4   221365  2015-07-21 07:09:52  ...             16781311.0      China\n",
              "\n",
              "[5 rows x 14 columns]"
            ]
          },
          "metadata": {
            "tags": []
          },
          "execution_count": 4
        }
      ]
    },
    {
      "cell_type": "code",
      "metadata": {
        "id": "Ae7y3xxnDFTN",
        "colab_type": "code",
        "outputId": "deba31b8-4a6d-4b33-ca83-e09824607328",
        "colab": {
          "base_uri": "https://localhost:8080/",
          "height": 35
        }
      },
      "source": [
        "df.shape"
      ],
      "execution_count": 0,
      "outputs": [
        {
          "output_type": "execute_result",
          "data": {
            "text/plain": [
              "(151112, 14)"
            ]
          },
          "metadata": {
            "tags": []
          },
          "execution_count": 5
        }
      ]
    },
    {
      "cell_type": "code",
      "metadata": {
        "id": "BL9qPGXcGo8T",
        "colab_type": "code",
        "outputId": "b388056a-b444-4698-fdb8-4830fa1880fc",
        "colab": {
          "base_uri": "https://localhost:8080/",
          "height": 90
        }
      },
      "source": [
        "df.columns"
      ],
      "execution_count": 0,
      "outputs": [
        {
          "output_type": "execute_result",
          "data": {
            "text/plain": [
              "Index(['user_id', 'signup_time', 'purchase_time', 'purchase_value',\n",
              "       'device_id', 'source', 'browser', 'sex', 'age', 'ip_address', 'class',\n",
              "       'lower_bound_ip_address', 'upper_bound_ip_address', 'country'],\n",
              "      dtype='object')"
            ]
          },
          "metadata": {
            "tags": []
          },
          "execution_count": 6
        }
      ]
    },
    {
      "cell_type": "code",
      "metadata": {
        "id": "3jDWqf3yGeCe",
        "colab_type": "code",
        "outputId": "1b82674d-b789-4bc2-e74a-226c33170292",
        "colab": {
          "base_uri": "https://localhost:8080/",
          "height": 72
        }
      },
      "source": [
        "fraud_list = df['class'].value_counts()\n",
        "fraud_list"
      ],
      "execution_count": 0,
      "outputs": [
        {
          "output_type": "execute_result",
          "data": {
            "text/plain": [
              "0    136961\n",
              "1     14151\n",
              "Name: class, dtype: int64"
            ]
          },
          "metadata": {
            "tags": []
          },
          "execution_count": 7
        }
      ]
    },
    {
      "cell_type": "code",
      "metadata": {
        "id": "XDrgAvWCMp_K",
        "colab_type": "code",
        "outputId": "5c3a374b-c918-4f1c-bf26-2f4f9ba72ef6",
        "colab": {
          "base_uri": "https://localhost:8080/",
          "height": 35
        }
      },
      "source": [
        "fraud_list[1]/df.shape[0]"
      ],
      "execution_count": 0,
      "outputs": [
        {
          "output_type": "execute_result",
          "data": {
            "text/plain": [
              "0.09364577267192546"
            ]
          },
          "metadata": {
            "tags": []
          },
          "execution_count": 8
        }
      ]
    },
    {
      "cell_type": "code",
      "metadata": {
        "id": "RYKX6SU6GjIz",
        "colab_type": "code",
        "outputId": "e1213e9e-d82a-43c7-81fa-8fe82005e6b0",
        "colab": {
          "base_uri": "https://localhost:8080/",
          "height": 297
        }
      },
      "source": [
        "sns.countplot(x = df['class'], data = df)"
      ],
      "execution_count": 0,
      "outputs": [
        {
          "output_type": "execute_result",
          "data": {
            "text/plain": [
              "<matplotlib.axes._subplots.AxesSubplot at 0x7f71eab3d940>"
            ]
          },
          "metadata": {
            "tags": []
          },
          "execution_count": 9
        },
        {
          "output_type": "display_data",
          "data": {
            "image/png": "[encoded data removed]",
            "text/plain": [
              "<Figure size 432x288 with 1 Axes>"
            ]
          },
          "metadata": {
            "tags": []
          }
        }
      ]
    },
    {
      "cell_type": "code",
      "metadata": {
        "id": "TeLEy_pXLuPs",
        "colab_type": "code",
        "outputId": "5aeb6e74-5307-4d8f-b13f-2d57d6f6b410",
        "colab": {
          "base_uri": "https://localhost:8080/",
          "height": 290
        }
      },
      "source": [
        "df.isnull().sum()"
      ],
      "execution_count": 0,
      "outputs": [
        {
          "output_type": "execute_result",
          "data": {
            "text/plain": [
              "user_id                       0\n",
              "signup_time                   0\n",
              "purchase_time                 0\n",
              "purchase_value                0\n",
              "device_id                     0\n",
              "source                        0\n",
              "browser                       0\n",
              "sex                           0\n",
              "age                           0\n",
              "ip_address                    0\n",
              "class                         0\n",
              "lower_bound_ip_address    12266\n",
              "upper_bound_ip_address    12266\n",
              "country                   12266\n",
              "dtype: int64"
            ]
          },
          "metadata": {
            "tags": []
          },
          "execution_count": 10
        }
      ]
    },
    {
      "cell_type": "code",
      "metadata": {
        "id": "EjalQdZEM9dA",
        "colab_type": "code",
        "outputId": "6003bf2e-988f-4115-8342-564090896da1",
        "colab": {
          "base_uri": "https://localhost:8080/",
          "height": 290
        }
      },
      "source": [
        "df.nunique()/df.shape[0]"
      ],
      "execution_count": 0,
      "outputs": [
        {
          "output_type": "execute_result",
          "data": {
            "text/plain": [
              "user_id                   1.000000\n",
              "signup_time               1.000000\n",
              "purchase_time             0.997135\n",
              "purchase_value            0.000807\n",
              "device_id                 0.912939\n",
              "source                    0.000020\n",
              "browser                   0.000033\n",
              "sex                       0.000013\n",
              "age                       0.000384\n",
              "ip_address                0.949706\n",
              "class                     0.000013\n",
              "lower_bound_ip_address    0.918828\n",
              "upper_bound_ip_address    0.918828\n",
              "country                   0.001555\n",
              "dtype: float64"
            ]
          },
          "metadata": {
            "tags": []
          },
          "execution_count": 11
        }
      ]
    },
    {
      "cell_type": "code",
      "metadata": {
        "id": "Eoc7Zi85VOvl",
        "colab_type": "code",
        "outputId": "34c08959-86a4-4f71-d175-d8f4f72a7cc7",
        "colab": {
          "base_uri": "https://localhost:8080/",
          "height": 290
        }
      },
      "source": [
        "# Unique Values in the dataset\n",
        "import pprint\n",
        "for cols in ['purchase_value', 'source', 'browser', 'sex', 'age']:\n",
        "  pprint.pprint('{} : {} '.format(cols, df[cols].unique()))"
      ],
      "execution_count": 0,
      "outputs": [
        {
          "output_type": "stream",
          "text": [
            "('purchase_value : [ 34  16  15  44  39  42  11  27  30  62  13  58  18  50  '\n",
            " '57  55  40  46\\n'\n",
            " '  24  47  25  52  31  37  54  12  48  56  72  38  33  53  35  60  91  26\\n'\n",
            " '  75  51  81  69  36  10  14  29  21  61  41  19  28  65   9  79  23  73\\n'\n",
            " '  45  20  78  22  32  68  43  82  59  70  63  86  80  66  49  17  64 107\\n'\n",
            " '  87  67  76  90  88  92  77  85  71  74 101  96  93  98 123  89  84  94\\n'\n",
            " '  83  99 118 103 112 105  97 120 100 109  95 106 110 102 115 119 111 108\\n'\n",
            " ' 129 154 116 104 113 117 121 128 127 122 114 132 140 125] ')\n",
            "\"source : ['SEO' 'Ads' 'Direct'] \"\n",
            "\"browser : ['Chrome' 'Opera' 'Safari' 'IE' 'FireFox'] \"\n",
            "\"sex : ['M' 'F'] \"\n",
            "('age : [39 53 41 45 18 19 34 43 31 35 32 33 38 24 23 28 36 27 56 21 22 30 57 '\n",
            " '44\\n'\n",
            " ' 40 55 37 20 48 25 46 29 26 47 60 52 42 49 50 58 51 59 62 54 68 64 61 63\\n'\n",
            " ' 72 67 65 69 66 73 70 71 74 76] ')\n"
          ],
          "name": "stdout"
        }
      ]
    },
    {
      "cell_type": "code",
      "metadata": {
        "id": "4iVv1WOuRGP5",
        "colab_type": "code",
        "outputId": "02af8229-6cf2-403a-fefa-a1fce73e414c",
        "colab": {
          "base_uri": "https://localhost:8080/",
          "height": 35
        }
      },
      "source": [
        "print('The user_id column contains {} duplicates'.format(df.duplicated\n",
        "          (subset='user_id', keep = False).sum()  ))"
      ],
      "execution_count": 0,
      "outputs": [
        {
          "output_type": "stream",
          "text": [
            "The user_id column contains 0 duplicates\n"
          ],
          "name": "stdout"
        }
      ]
    },
    {
      "cell_type": "code",
      "metadata": {
        "id": "rWInY0NPTeme",
        "colab_type": "code",
        "outputId": "43d1195a-42af-4d5d-c5f0-7be6ddbe61fd",
        "colab": {
          "base_uri": "https://localhost:8080/",
          "height": 54
        }
      },
      "source": [
        "dup_table = pd.DataFrame(df.duplicated(subset='device_id'))\n",
        "dup_rate = dup_table.mean()\n",
        "dup_rate"
      ],
      "execution_count": 0,
      "outputs": [
        {
          "output_type": "execute_result",
          "data": {
            "text/plain": [
              "0    0.087061\n",
              "dtype: float64"
            ]
          },
          "metadata": {
            "tags": []
          },
          "execution_count": 14
        }
      ]
    },
    {
      "cell_type": "code",
      "metadata": {
        "id": "h_zmOUosWAyW",
        "colab_type": "code",
        "outputId": "e1b98aed-1ab3-4d05-9b40-0250108d3b6f",
        "colab": {
          "base_uri": "https://localhost:8080/",
          "height": 35
        }
      },
      "source": [
        "print('{}% of the dataset is comprised of transaction from a devie_id that had been previously used'. format(int(dup_rate*1000)/10))"
      ],
      "execution_count": 0,
      "outputs": [
        {
          "output_type": "stream",
          "text": [
            "8.7% of the dataset is comprised of transaction from a devie_id that had been previously used\n"
          ],
          "name": "stdout"
        }
      ]
    },
    {
      "cell_type": "code",
      "metadata": {
        "id": "zHLC5Cw7XZfF",
        "colab_type": "code",
        "outputId": "cc1bf9da-01aa-4323-a832-9886a2a10010",
        "colab": {
          "base_uri": "https://localhost:8080/",
          "height": 228
        }
      },
      "source": [
        "device_duplicate = pd.DataFrame(df.groupby(by='device_id').device_id.count())\n",
        "device_duplicate.head()\n",
        "#device_duplicate.device_id.value_counts().sort_values()"
      ],
      "execution_count": 0,
      "outputs": [
        {
          "output_type": "execute_result",
          "data": {
            "text/html": [
              "<div>\n",
              "<style scoped>\n",
              "    .dataframe tbody tr th:only-of-type {\n",
              "        vertical-align: middle;\n",
              "    }\n",
              "\n",
              "    .dataframe tbody tr th {\n",
              "        vertical-align: top;\n",
              "    }\n",
              "\n",
              "    .dataframe thead th {\n",
              "        text-align: right;\n",
              "    }\n",
              "</style>\n",
              "<table border=\"1\" class=\"dataframe\">\n",
              "  <thead>\n",
              "    <tr style=\"text-align: right;\">\n",
              "      <th></th>\n",
              "      <th>device_id</th>\n",
              "    </tr>\n",
              "    <tr>\n",
              "      <th>device_id</th>\n",
              "      <th></th>\n",
              "    </tr>\n",
              "  </thead>\n",
              "  <tbody>\n",
              "    <tr>\n",
              "      <th>AAALBGNHHVMKG</th>\n",
              "      <td>1</td>\n",
              "    </tr>\n",
              "    <tr>\n",
              "      <th>AAAWIHVCQELTP</th>\n",
              "      <td>1</td>\n",
              "    </tr>\n",
              "    <tr>\n",
              "      <th>AAAXJHWCLISKY</th>\n",
              "      <td>1</td>\n",
              "    </tr>\n",
              "    <tr>\n",
              "      <th>AAAXXOZJRZRAO</th>\n",
              "      <td>11</td>\n",
              "    </tr>\n",
              "    <tr>\n",
              "      <th>AABFGRPBQHWFQ</th>\n",
              "      <td>1</td>\n",
              "    </tr>\n",
              "  </tbody>\n",
              "</table>\n",
              "</div>"
            ],
            "text/plain": [
              "               device_id\n",
              "device_id               \n",
              "AAALBGNHHVMKG          1\n",
              "AAAWIHVCQELTP          1\n",
              "AAAXJHWCLISKY          1\n",
              "AAAXXOZJRZRAO         11\n",
              "AABFGRPBQHWFQ          1"
            ]
          },
          "metadata": {
            "tags": []
          },
          "execution_count": 16
        }
      ]
    },
    {
      "cell_type": "code",
      "metadata": {
        "id": "ugTzOqYHazIV",
        "colab_type": "code",
        "colab": {}
      },
      "source": [
        "device_duplicate.rename(columns = {'device_id':'freq_device'}, inplace=True)"
      ],
      "execution_count": 0,
      "outputs": []
    },
    {
      "cell_type": "code",
      "metadata": {
        "id": "1t_Ab-prpfRZ",
        "colab_type": "code",
        "outputId": "0791a92f-6196-41ec-b4c5-b518b5392206",
        "colab": {
          "base_uri": "https://localhost:8080/",
          "height": 228
        }
      },
      "source": [
        "device_duplicate.head()"
      ],
      "execution_count": 0,
      "outputs": [
        {
          "output_type": "execute_result",
          "data": {
            "text/html": [
              "<div>\n",
              "<style scoped>\n",
              "    .dataframe tbody tr th:only-of-type {\n",
              "        vertical-align: middle;\n",
              "    }\n",
              "\n",
              "    .dataframe tbody tr th {\n",
              "        vertical-align: top;\n",
              "    }\n",
              "\n",
              "    .dataframe thead th {\n",
              "        text-align: right;\n",
              "    }\n",
              "</style>\n",
              "<table border=\"1\" class=\"dataframe\">\n",
              "  <thead>\n",
              "    <tr style=\"text-align: right;\">\n",
              "      <th></th>\n",
              "      <th>freq_device</th>\n",
              "    </tr>\n",
              "    <tr>\n",
              "      <th>device_id</th>\n",
              "      <th></th>\n",
              "    </tr>\n",
              "  </thead>\n",
              "  <tbody>\n",
              "    <tr>\n",
              "      <th>AAALBGNHHVMKG</th>\n",
              "      <td>1</td>\n",
              "    </tr>\n",
              "    <tr>\n",
              "      <th>AAAWIHVCQELTP</th>\n",
              "      <td>1</td>\n",
              "    </tr>\n",
              "    <tr>\n",
              "      <th>AAAXJHWCLISKY</th>\n",
              "      <td>1</td>\n",
              "    </tr>\n",
              "    <tr>\n",
              "      <th>AAAXXOZJRZRAO</th>\n",
              "      <td>11</td>\n",
              "    </tr>\n",
              "    <tr>\n",
              "      <th>AABFGRPBQHWFQ</th>\n",
              "      <td>1</td>\n",
              "    </tr>\n",
              "  </tbody>\n",
              "</table>\n",
              "</div>"
            ],
            "text/plain": [
              "               freq_device\n",
              "device_id                 \n",
              "AAALBGNHHVMKG            1\n",
              "AAAWIHVCQELTP            1\n",
              "AAAXJHWCLISKY            1\n",
              "AAAXXOZJRZRAO           11\n",
              "AABFGRPBQHWFQ            1"
            ]
          },
          "metadata": {
            "tags": []
          },
          "execution_count": 18
        }
      ]
    },
    {
      "cell_type": "code",
      "metadata": {
        "id": "06iSARTtph-9",
        "colab_type": "code",
        "colab": {}
      },
      "source": [
        "device_duplicate.reset_index(level=0, inplace=True)"
      ],
      "execution_count": 0,
      "outputs": []
    },
    {
      "cell_type": "code",
      "metadata": {
        "id": "g9lhjkE13gq5",
        "colab_type": "code",
        "outputId": "770104c4-af7f-4d60-ab66-7f865634fe89",
        "colab": {
          "base_uri": "https://localhost:8080/",
          "height": 35
        }
      },
      "source": [
        "dup_1 = device_duplicate[device_duplicate.freq_device > 1]\n",
        "print('Mean when frequency is greater than one %0.2f'%(dup_1.mean() *10/10))"
      ],
      "execution_count": 0,
      "outputs": [
        {
          "output_type": "stream",
          "text": [
            "Mean when frequency is greater than one 3.13\n"
          ],
          "name": "stdout"
        }
      ]
    },
    {
      "cell_type": "code",
      "metadata": {
        "id": "lGiSAwtC44c1",
        "colab_type": "code",
        "colab": {}
      },
      "source": [
        "dup_2 = device_duplicate[device_duplicate.freq_device > 2]"
      ],
      "execution_count": 0,
      "outputs": []
    },
    {
      "cell_type": "code",
      "metadata": {
        "id": "2ZjQnJ3hRLZ-",
        "colab_type": "code",
        "outputId": "b779ebb8-5ac0-436c-cf75-ba1fecbdf967",
        "colab": {
          "base_uri": "https://localhost:8080/",
          "height": 35
        }
      },
      "source": [
        "print('Mean when frequency is greater than two %0.2f' % (dup_2.mean()*10/10))"
      ],
      "execution_count": 0,
      "outputs": [
        {
          "output_type": "stream",
          "text": [
            "Mean when frequency is greater than two 10.23\n"
          ],
          "name": "stdout"
        }
      ]
    },
    {
      "cell_type": "code",
      "metadata": {
        "id": "BdqnhflkRXRn",
        "colab_type": "code",
        "colab": {}
      },
      "source": [
        "df = df.merge(device_duplicate, on = 'device_id')"
      ],
      "execution_count": 0,
      "outputs": []
    },
    {
      "cell_type": "code",
      "metadata": {
        "id": "eaD4hRXNUZ9O",
        "colab_type": "code",
        "outputId": "28a18cc3-c0f5-41ca-fe35-aab3b5c3f88c",
        "colab": {
          "base_uri": "https://localhost:8080/",
          "height": 305
        }
      },
      "source": [
        "df.head()"
      ],
      "execution_count": 0,
      "outputs": [
        {
          "output_type": "execute_result",
          "data": {
            "text/html": [
              "<div>\n",
              "<style scoped>\n",
              "    .dataframe tbody tr th:only-of-type {\n",
              "        vertical-align: middle;\n",
              "    }\n",
              "\n",
              "    .dataframe tbody tr th {\n",
              "        vertical-align: top;\n",
              "    }\n",
              "\n",
              "    .dataframe thead th {\n",
              "        text-align: right;\n",
              "    }\n",
              "</style>\n",
              "<table border=\"1\" class=\"dataframe\">\n",
              "  <thead>\n",
              "    <tr style=\"text-align: right;\">\n",
              "      <th></th>\n",
              "      <th>user_id</th>\n",
              "      <th>signup_time</th>\n",
              "      <th>purchase_time</th>\n",
              "      <th>purchase_value</th>\n",
              "      <th>device_id</th>\n",
              "      <th>source</th>\n",
              "      <th>browser</th>\n",
              "      <th>sex</th>\n",
              "      <th>age</th>\n",
              "      <th>ip_address</th>\n",
              "      <th>class</th>\n",
              "      <th>lower_bound_ip_address</th>\n",
              "      <th>upper_bound_ip_address</th>\n",
              "      <th>country</th>\n",
              "      <th>freq_device</th>\n",
              "    </tr>\n",
              "  </thead>\n",
              "  <tbody>\n",
              "    <tr>\n",
              "      <th>0</th>\n",
              "      <td>22058</td>\n",
              "      <td>2015-02-24 22:55:49</td>\n",
              "      <td>2015-04-18 02:47:11</td>\n",
              "      <td>34</td>\n",
              "      <td>QVPSPJUOCKZAR</td>\n",
              "      <td>SEO</td>\n",
              "      <td>Chrome</td>\n",
              "      <td>M</td>\n",
              "      <td>39</td>\n",
              "      <td>7.327584e+08</td>\n",
              "      <td>0</td>\n",
              "      <td>1.677722e+07</td>\n",
              "      <td>1.677747e+07</td>\n",
              "      <td>Australia</td>\n",
              "      <td>1</td>\n",
              "    </tr>\n",
              "    <tr>\n",
              "      <th>1</th>\n",
              "      <td>333320</td>\n",
              "      <td>2015-06-07 20:39:50</td>\n",
              "      <td>2015-06-08 01:38:54</td>\n",
              "      <td>16</td>\n",
              "      <td>EOGFQPIZPYXFZ</td>\n",
              "      <td>Ads</td>\n",
              "      <td>Chrome</td>\n",
              "      <td>F</td>\n",
              "      <td>53</td>\n",
              "      <td>3.503114e+08</td>\n",
              "      <td>0</td>\n",
              "      <td>1.677747e+07</td>\n",
              "      <td>1.677773e+07</td>\n",
              "      <td>China</td>\n",
              "      <td>1</td>\n",
              "    </tr>\n",
              "    <tr>\n",
              "      <th>2</th>\n",
              "      <td>1359</td>\n",
              "      <td>2015-01-01 18:52:44</td>\n",
              "      <td>2015-01-01 18:52:45</td>\n",
              "      <td>15</td>\n",
              "      <td>YSSKYOSJHPPLJ</td>\n",
              "      <td>SEO</td>\n",
              "      <td>Opera</td>\n",
              "      <td>M</td>\n",
              "      <td>53</td>\n",
              "      <td>2.621474e+09</td>\n",
              "      <td>1</td>\n",
              "      <td>1.677773e+07</td>\n",
              "      <td>1.677824e+07</td>\n",
              "      <td>China</td>\n",
              "      <td>12</td>\n",
              "    </tr>\n",
              "    <tr>\n",
              "      <th>3</th>\n",
              "      <td>48288</td>\n",
              "      <td>2015-01-01 18:52:41</td>\n",
              "      <td>2015-01-01 18:52:42</td>\n",
              "      <td>15</td>\n",
              "      <td>YSSKYOSJHPPLJ</td>\n",
              "      <td>SEO</td>\n",
              "      <td>Opera</td>\n",
              "      <td>M</td>\n",
              "      <td>53</td>\n",
              "      <td>2.621474e+09</td>\n",
              "      <td>1</td>\n",
              "      <td>5.326766e+08</td>\n",
              "      <td>5.326930e+08</td>\n",
              "      <td>Georgia</td>\n",
              "      <td>12</td>\n",
              "    </tr>\n",
              "    <tr>\n",
              "      <th>4</th>\n",
              "      <td>128706</td>\n",
              "      <td>2015-01-01 18:52:40</td>\n",
              "      <td>2015-01-01 18:52:41</td>\n",
              "      <td>15</td>\n",
              "      <td>YSSKYOSJHPPLJ</td>\n",
              "      <td>SEO</td>\n",
              "      <td>Opera</td>\n",
              "      <td>M</td>\n",
              "      <td>53</td>\n",
              "      <td>2.621474e+09</td>\n",
              "      <td>1</td>\n",
              "      <td>1.540896e+09</td>\n",
              "      <td>1.540897e+09</td>\n",
              "      <td>Slovenia</td>\n",
              "      <td>12</td>\n",
              "    </tr>\n",
              "  </tbody>\n",
              "</table>\n",
              "</div>"
            ],
            "text/plain": [
              "   user_id          signup_time  ...    country  freq_device\n",
              "0    22058  2015-02-24 22:55:49  ...  Australia            1\n",
              "1   333320  2015-06-07 20:39:50  ...      China            1\n",
              "2     1359  2015-01-01 18:52:44  ...      China           12\n",
              "3    48288  2015-01-01 18:52:41  ...    Georgia           12\n",
              "4   128706  2015-01-01 18:52:40  ...   Slovenia           12\n",
              "\n",
              "[5 rows x 15 columns]"
            ]
          },
          "metadata": {
            "tags": []
          },
          "execution_count": 24
        }
      ]
    },
    {
      "cell_type": "code",
      "metadata": {
        "id": "b3URwQn_Ubx1",
        "colab_type": "code",
        "outputId": "08372149-f7f7-4f15-87f0-31e05a17da34",
        "colab": {
          "base_uri": "https://localhost:8080/",
          "height": 389
        }
      },
      "source": [
        "f, ax = plt.subplots(1,2, figsize=(12, 6))\n",
        "g1 = sns.distplot(df.freq_device[df.freq_device < 4], ax=ax[0])\n",
        "g1.set(xticks=[1,2,3])\n",
        "g2 = sns.distplot(df.freq_device[df.freq_device > 2], ax = ax[1])\n",
        "g2.set(xticks=range(0,21,2))\n",
        "plt.show()"
      ],
      "execution_count": 0,
      "outputs": [
        {
          "output_type": "display_data",
          "data": {
            "image/png": "[encoded data removed]",
            "text/plain": [
              "<Figure size 864x432 with 2 Axes>"
            ]
          },
          "metadata": {
            "tags": []
          }
        }
      ]
    },
    {
      "cell_type": "code",
      "metadata": {
        "id": "w1YUm4m_W_jc",
        "colab_type": "code",
        "outputId": "55cc7037-48f5-4ef0-cb7d-d8d43982328f",
        "colab": {
          "base_uri": "https://localhost:8080/",
          "height": 409
        }
      },
      "source": [
        "f, ax = plt.subplots(1, 3, figsize=(16, 6))\n",
        "sns.barplot(df.groupby(by='source').mean()['class'].index, df.groupby(by='source').mean()['class'], ax=ax[0])\n",
        "sns.barplot(df.groupby(by='browser').mean()['class'].index, df.groupby(by='browser').mean()['class'], ax=ax[1])\n",
        "sns.barplot(df.groupby(by='sex').mean()['class'].index, df.groupby(by='sex').mean()['class'], ax=ax[2])\n"
      ],
      "execution_count": 0,
      "outputs": [
        {
          "output_type": "execute_result",
          "data": {
            "text/plain": [
              "<matplotlib.axes._subplots.AxesSubplot at 0x7f71ea195ef0>"
            ]
          },
          "metadata": {
            "tags": []
          },
          "execution_count": 26
        },
        {
          "output_type": "display_data",
          "data": {
            "image/png": "[encoded data removed]",
            "text/plain": [
              "<Figure size 1152x432 with 3 Axes>"
            ]
          },
          "metadata": {
            "tags": []
          }
        }
      ]
    },
    {
      "cell_type": "code",
      "metadata": {
        "id": "9evZJj1GeRTr",
        "colab_type": "code",
        "outputId": "5bd40eaf-19a7-4c8d-abaa-9fdb6095a1b3",
        "colab": {
          "base_uri": "https://localhost:8080/",
          "height": 645
        }
      },
      "source": [
        "f, ax = plt.subplots(3, 1, figsize=(25, 10))\n",
        "sns.pointplot(x = 'purchase_value', y = 'class', data = df, logistic=True,ci=None, ax=ax[0])\n",
        "sns.pointplot(x = 'age', y='class', data = df, logistic=True, ci=None, ax = ax[1])\n",
        "sns.pointplot(x = 'freq_device', y = 'class', data = df, logistic=True, ci=None, ax= ax[2])"
      ],
      "execution_count": 0,
      "outputs": [
        {
          "output_type": "execute_result",
          "data": {
            "text/plain": [
              "<matplotlib.axes._subplots.AxesSubplot at 0x7f71ea039780>"
            ]
          },
          "metadata": {
            "tags": []
          },
          "execution_count": 27
        },
        {
          "output_type": "display_data",
          "data": {
            "image/png": "[encoded data removed]",
            "text/plain": [
              "<Figure size 1800x720 with 3 Axes>"
            ]
          },
          "metadata": {
            "tags": []
          }
        }
      ]
    },
    {
      "cell_type": "code",
      "metadata": {
        "id": "r0G9BCPRnF2m",
        "colab_type": "code",
        "outputId": "6693e3fb-8633-4253-ff27-eee5db0a0f7f",
        "colab": {
          "base_uri": "https://localhost:8080/",
          "height": 108
        }
      },
      "source": [
        "df.columns"
      ],
      "execution_count": 0,
      "outputs": [
        {
          "output_type": "execute_result",
          "data": {
            "text/plain": [
              "Index(['user_id', 'signup_time', 'purchase_time', 'purchase_value',\n",
              "       'device_id', 'source', 'browser', 'sex', 'age', 'ip_address', 'class',\n",
              "       'lower_bound_ip_address', 'upper_bound_ip_address', 'country',\n",
              "       'freq_device'],\n",
              "      dtype='object')"
            ]
          },
          "metadata": {
            "tags": []
          },
          "execution_count": 28
        }
      ]
    },
    {
      "cell_type": "code",
      "metadata": {
        "id": "G_GRxQHd0GAW",
        "colab_type": "code",
        "outputId": "8902228e-a0e4-45fe-b43b-d89830bbd386",
        "colab": {
          "base_uri": "https://localhost:8080/",
          "height": 1000
        }
      },
      "source": [
        "df.country.unique()"
      ],
      "execution_count": 0,
      "outputs": [
        {
          "output_type": "execute_result",
          "data": {
            "text/plain": [
              "array(['Australia', 'China', 'Georgia', 'Slovenia', 'United States',\n",
              "       'Brazil', 'Poland', 'Malaysia', nan, 'Japan', 'Thailand',\n",
              "       'Russian Federation', 'Germany', 'European Union', 'South Africa',\n",
              "       'United Kingdom', 'Hong Kong', 'India', 'Colombia',\n",
              "       'Korea Republic of', 'Taiwan; Republic of China (ROC)',\n",
              "       'Philippines', 'Viet Nam', 'Romania', 'Netherlands', 'Pakistan',\n",
              "       'Switzerland', 'Malta', 'Canada', 'Mexico', 'Ukraine', 'France',\n",
              "       'Austria', 'Italy', 'United Arab Emirates', 'Israel', 'Sweden',\n",
              "       'Kazakhstan', 'Portugal', 'Greece', 'Saudi Arabia', 'Denmark',\n",
              "       'Spain', 'Iran (ISLAMIC Republic Of)', 'Macedonia', 'Norway',\n",
              "       'Finland', 'Bosnia and Herzegowina', 'El Salvador',\n",
              "       'Syrian Arab Republic', 'Cyprus', 'Czech Republic', 'Iraq',\n",
              "       'Turkey', 'Lebanon', 'Sri Lanka', 'Hungary', 'Venezuela',\n",
              "       'Algeria', 'Azerbaijan', 'Palestinian Territory Occupied',\n",
              "       'Bangladesh', 'Lithuania', 'Oman', 'Serbia', 'Belgium', 'Bulgaria',\n",
              "       'Moldova Republic of', 'Estonia', 'Liechtenstein',\n",
              "       'Croatia (LOCAL Name: Hrvatska)', 'Guyana', 'Latvia', 'Jordan',\n",
              "       'Kyrgyzstan', 'Peru', 'New Zealand', 'Faroe Islands', 'Ireland',\n",
              "       'Libyan Arab Jamahiriya', 'Armenia', 'Yemen', 'Belarus', 'Egypt',\n",
              "       'Indonesia', 'Kenya', 'Argentina', 'Mozambique', 'Gibraltar',\n",
              "       'Luxembourg', 'Ecuador', 'Chile', 'Slovakia (SLOVAK Republic)',\n",
              "       'Singapore', 'Nepal', 'Papua New Guinea', 'Barbados', 'Cameroon',\n",
              "       'Honduras', 'Ghana', 'Puerto Rico', 'Bahamas', 'Guatemala',\n",
              "       'Saint Vincent and The Grenadines', 'Panama', 'Nigeria',\n",
              "       'Tajikistan', 'Seychelles', 'Costa Rica', 'Tokelau', 'Cambodia',\n",
              "       'Macau', 'Maldives', 'Afghanistan', 'New Caledonia', 'Fiji',\n",
              "       'Mongolia', 'Wallis and Futuna Islands', 'Morocco',\n",
              "       'Dominican Republic', 'Vanuatu', 'Qatar', 'Iceland', 'Albania',\n",
              "       'Belize', 'Mali', 'Montenegro', 'Sierra Leone', 'Angola',\n",
              "       'Uzbekistan', 'Jersey', 'San Marino', 'Kuwait', 'Bolivia', 'Guam',\n",
              "       'Bahrain', 'Tanzania United Republic of', 'Equatorial Guinea',\n",
              "       'Virgin Islands (U.S.)', 'Zimbabwe', 'Liberia', 'Zambia',\n",
              "       'Madagascar', 'Namibia', \"Cote D'ivoire\", 'Sudan', 'Malawi',\n",
              "       'Gabon', 'Benin', 'Chad', 'Botswana', 'Cape Verde', 'Rwanda',\n",
              "       'Congo', 'Uganda', 'Gambia', 'Lesotho', 'Mauritius', 'Guinea',\n",
              "       'Congo The Democratic Republic of The', 'Swaziland',\n",
              "       'Burkina Faso', 'Somalia', 'Niger', 'Central African Republic',\n",
              "       'Togo', 'South Sudan', 'Burundi', 'Senegal', 'Mauritania',\n",
              "       'Djibouti', 'Uruguay', 'Reunion', 'Suriname', 'Isle of Man',\n",
              "       'Tunisia', 'Mayotte', 'Greenland', 'Holy See (VATICAN City State)',\n",
              "       'Virgin Islands (BRITISH)', 'Tuvalu', 'Curacao', 'Guernsey',\n",
              "       'Samoa', 'Niue', 'Myanmar', 'Brunei Darussalam', 'Monaco',\n",
              "       'Cayman Islands', 'Jamaica', 'Trinidad and Tobago', 'Bermuda',\n",
              "       'Saint Kitts and Nevis', 'Turks and Caicos Islands',\n",
              "       'Antigua and Barbuda', 'St. Pierre and Miquelon', 'Saint Martin',\n",
              "       'Grenada', 'Haiti', \"Lao People's Democratic Republic\", 'Andorra',\n",
              "       'Nicaragua', 'Cuba', 'Bhutan', 'Turkmenistan', 'Martinique',\n",
              "       'Northern Mariana Islands', 'Solomon Islands', 'French Polynesia',\n",
              "       'Paraguay', 'Nauru', 'Kiribati', 'Palau', 'Tonga', 'Dominica',\n",
              "       'Anguilla', 'Guadeloupe', 'Marshall Islands',\n",
              "       'Micronesia Federated States of', 'Sint Maarten',\n",
              "       'Bonaire; Sint Eustatius; Saba', 'French Guiana',\n",
              "       \"Korea Democratic People's Republic of\", 'Timor-leste', 'Aruba',\n",
              "       'Sao Tome and Principe', 'Guinea-bissau', 'Eritrea', 'Ethiopia',\n",
              "       'Comoros', 'Montserrat', 'British Indian Ocean Territory',\n",
              "       'Cook Islands', 'American Samoa', 'Norfolk Island', 'Saint Lucia'],\n",
              "      dtype=object)"
            ]
          },
          "metadata": {
            "tags": []
          },
          "execution_count": 29
        }
      ]
    },
    {
      "cell_type": "code",
      "metadata": {
        "id": "q-cZLjwJ4_-i",
        "colab_type": "code",
        "outputId": "ed3a526f-1e5c-41ec-a2f6-05c2ebb518ce",
        "colab": {
          "base_uri": "https://localhost:8080/",
          "height": 235
        }
      },
      "source": [
        "df.upper_bound_ip_address.astype('float')\n",
        "df.lower_bound_ip_address.astype('float')\n",
        "df.ip_address.astype('float')"
      ],
      "execution_count": 0,
      "outputs": [
        {
          "output_type": "execute_result",
          "data": {
            "text/plain": [
              "0         7.327584e+08\n",
              "1         3.503114e+08\n",
              "2         2.621474e+09\n",
              "3         2.621474e+09\n",
              "4         2.621474e+09\n",
              "              ...     \n",
              "151107    1.827348e+09\n",
              "151108    1.691181e+09\n",
              "151109    2.439047e+09\n",
              "151110    2.748471e+09\n",
              "151111    4.103825e+09\n",
              "Name: ip_address, Length: 151112, dtype: float64"
            ]
          },
          "metadata": {
            "tags": []
          },
          "execution_count": 31
        }
      ]
    },
    {
      "cell_type": "code",
      "metadata": {
        "id": "s1gQiQTpi54k",
        "colab_type": "code",
        "colab": {}
      },
      "source": [
        "def mapping_IP_to_country(ip):\n",
        "  try:\n",
        "    return df.country[(df.upper_bound_ip_address > ip) & (df.lower_bound_ip_address < ip)].iloc[0]\n",
        "  except IndexError:\n",
        "    return 'Unknown'\n",
        "\n",
        "df['IP_country'] = df.ip_address.apply(mapping_IP_to_country)"
      ],
      "execution_count": 0,
      "outputs": []
    },
    {
      "cell_type": "code",
      "metadata": {
        "id": "gDck3lOCm443",
        "colab_type": "code",
        "outputId": "5e5f6401-d37e-44f9-969a-36d219285e75",
        "colab": {
          "base_uri": "https://localhost:8080/",
          "height": 235
        }
      },
      "source": [
        "df.IP_country.value_counts()"
      ],
      "execution_count": 0,
      "outputs": [
        {
          "output_type": "execute_result",
          "data": {
            "text/plain": [
              "United States     58049\n",
              "Unknown           21966\n",
              "China             12038\n",
              "Japan              7306\n",
              "United Kingdom     4490\n",
              "                  ...  \n",
              "Vanuatu               1\n",
              "Guadeloupe            1\n",
              "Turkmenistan          1\n",
              "Dominica              1\n",
              "Niger                 1\n",
              "Name: IP_country, Length: 182, dtype: int64"
            ]
          },
          "metadata": {
            "tags": []
          },
          "execution_count": 40
        }
      ]
    },
    {
      "cell_type": "code",
      "metadata": {
        "id": "WgO1SD8Xm8I_",
        "colab_type": "code",
        "outputId": "3dd80a79-f61e-4458-80dc-af57af819fe1",
        "colab": {
          "base_uri": "https://localhost:8080/",
          "height": 436
        }
      },
      "source": [
        "df.IP_country.value_counts()[df.IP_country.value_counts() > 1000].plot(kind='bar')\n",
        "# Here Unknow can be traced back as a fradulent Activity"
      ],
      "execution_count": 0,
      "outputs": [
        {
          "output_type": "execute_result",
          "data": {
            "text/plain": [
              "<matplotlib.axes._subplots.AxesSubplot at 0x7f71e993c160>"
            ]
          },
          "metadata": {
            "tags": []
          },
          "execution_count": 41
        },
        {
          "output_type": "display_data",
          "data": {
            "image/png": "[encoded data removed]",
            "text/plain": [
              "<Figure size 432x288 with 1 Axes>"
            ]
          },
          "metadata": {
            "tags": []
          }
        }
      ]
    },
    {
      "cell_type": "code",
      "metadata": {
        "id": "cyTHtH1uoX52",
        "colab_type": "code",
        "colab": {}
      },
      "source": [
        "df.to_csv('gdrive/My Drive/CSV_Files/Fraud_Data_with_country_ip.csv')"
      ],
      "execution_count": 0,
      "outputs": []
    },
    {
      "cell_type": "code",
      "metadata": {
        "id": "WMqEpYJ01sHj",
        "colab_type": "code",
        "colab": {}
      },
      "source": [
        "df = pd.read_csv('gdrive/My Drive/CSV_Files/Fraud_Data_with_country_ip.csv')"
      ],
      "execution_count": 0,
      "outputs": []
    },
    {
      "cell_type": "code",
      "metadata": {
        "id": "BqcDeTjp2qIc",
        "colab_type": "code",
        "colab": {}
      },
      "source": [
        "df.freq_device = df.freq_device.apply(lambda x: str(x) if x < 5 else\n",
        "                                                '5-10' if x >=5 and x <= 10 else\n",
        "                                                '11-15' if x > 10 and x <=15 else\n",
        "                                                '> 15')"
      ],
      "execution_count": 0,
      "outputs": []
    },
    {
      "cell_type": "code",
      "metadata": {
        "id": "MHVPkvD_ARFN",
        "colab_type": "code",
        "outputId": "12a8c90c-e500-4da8-f68f-494d060d5dbe",
        "colab": {
          "base_uri": "https://localhost:8080/",
          "height": 322
        }
      },
      "source": [
        "df.head()"
      ],
      "execution_count": 0,
      "outputs": [
        {
          "output_type": "execute_result",
          "data": {
            "text/html": [
              "<div>\n",
              "<style scoped>\n",
              "    .dataframe tbody tr th:only-of-type {\n",
              "        vertical-align: middle;\n",
              "    }\n",
              "\n",
              "    .dataframe tbody tr th {\n",
              "        vertical-align: top;\n",
              "    }\n",
              "\n",
              "    .dataframe thead th {\n",
              "        text-align: right;\n",
              "    }\n",
              "</style>\n",
              "<table border=\"1\" class=\"dataframe\">\n",
              "  <thead>\n",
              "    <tr style=\"text-align: right;\">\n",
              "      <th></th>\n",
              "      <th>Unnamed: 0</th>\n",
              "      <th>user_id</th>\n",
              "      <th>signup_time</th>\n",
              "      <th>purchase_time</th>\n",
              "      <th>purchase_value</th>\n",
              "      <th>device_id</th>\n",
              "      <th>source</th>\n",
              "      <th>browser</th>\n",
              "      <th>sex</th>\n",
              "      <th>age</th>\n",
              "      <th>ip_address</th>\n",
              "      <th>class</th>\n",
              "      <th>lower_bound_ip_address</th>\n",
              "      <th>upper_bound_ip_address</th>\n",
              "      <th>country</th>\n",
              "      <th>freq_device</th>\n",
              "      <th>IP_country</th>\n",
              "    </tr>\n",
              "  </thead>\n",
              "  <tbody>\n",
              "    <tr>\n",
              "      <th>0</th>\n",
              "      <td>0</td>\n",
              "      <td>22058</td>\n",
              "      <td>2015-02-24 22:55:49</td>\n",
              "      <td>2015-04-18 02:47:11</td>\n",
              "      <td>34</td>\n",
              "      <td>QVPSPJUOCKZAR</td>\n",
              "      <td>SEO</td>\n",
              "      <td>Chrome</td>\n",
              "      <td>M</td>\n",
              "      <td>39</td>\n",
              "      <td>7.327584e+08</td>\n",
              "      <td>0</td>\n",
              "      <td>1.677722e+07</td>\n",
              "      <td>1.677747e+07</td>\n",
              "      <td>Australia</td>\n",
              "      <td>1</td>\n",
              "      <td>Japan</td>\n",
              "    </tr>\n",
              "    <tr>\n",
              "      <th>1</th>\n",
              "      <td>1</td>\n",
              "      <td>333320</td>\n",
              "      <td>2015-06-07 20:39:50</td>\n",
              "      <td>2015-06-08 01:38:54</td>\n",
              "      <td>16</td>\n",
              "      <td>EOGFQPIZPYXFZ</td>\n",
              "      <td>Ads</td>\n",
              "      <td>Chrome</td>\n",
              "      <td>F</td>\n",
              "      <td>53</td>\n",
              "      <td>3.503114e+08</td>\n",
              "      <td>0</td>\n",
              "      <td>1.677747e+07</td>\n",
              "      <td>1.677773e+07</td>\n",
              "      <td>China</td>\n",
              "      <td>1</td>\n",
              "      <td>United States</td>\n",
              "    </tr>\n",
              "    <tr>\n",
              "      <th>2</th>\n",
              "      <td>2</td>\n",
              "      <td>1359</td>\n",
              "      <td>2015-01-01 18:52:44</td>\n",
              "      <td>2015-01-01 18:52:45</td>\n",
              "      <td>15</td>\n",
              "      <td>YSSKYOSJHPPLJ</td>\n",
              "      <td>SEO</td>\n",
              "      <td>Opera</td>\n",
              "      <td>M</td>\n",
              "      <td>53</td>\n",
              "      <td>2.621474e+09</td>\n",
              "      <td>1</td>\n",
              "      <td>1.677773e+07</td>\n",
              "      <td>1.677824e+07</td>\n",
              "      <td>China</td>\n",
              "      <td>11-15</td>\n",
              "      <td>United States</td>\n",
              "    </tr>\n",
              "    <tr>\n",
              "      <th>3</th>\n",
              "      <td>3</td>\n",
              "      <td>48288</td>\n",
              "      <td>2015-01-01 18:52:41</td>\n",
              "      <td>2015-01-01 18:52:42</td>\n",
              "      <td>15</td>\n",
              "      <td>YSSKYOSJHPPLJ</td>\n",
              "      <td>SEO</td>\n",
              "      <td>Opera</td>\n",
              "      <td>M</td>\n",
              "      <td>53</td>\n",
              "      <td>2.621474e+09</td>\n",
              "      <td>1</td>\n",
              "      <td>5.326766e+08</td>\n",
              "      <td>5.326930e+08</td>\n",
              "      <td>Georgia</td>\n",
              "      <td>11-15</td>\n",
              "      <td>United States</td>\n",
              "    </tr>\n",
              "    <tr>\n",
              "      <th>4</th>\n",
              "      <td>4</td>\n",
              "      <td>128706</td>\n",
              "      <td>2015-01-01 18:52:40</td>\n",
              "      <td>2015-01-01 18:52:41</td>\n",
              "      <td>15</td>\n",
              "      <td>YSSKYOSJHPPLJ</td>\n",
              "      <td>SEO</td>\n",
              "      <td>Opera</td>\n",
              "      <td>M</td>\n",
              "      <td>53</td>\n",
              "      <td>2.621474e+09</td>\n",
              "      <td>1</td>\n",
              "      <td>1.540896e+09</td>\n",
              "      <td>1.540897e+09</td>\n",
              "      <td>Slovenia</td>\n",
              "      <td>11-15</td>\n",
              "      <td>United States</td>\n",
              "    </tr>\n",
              "  </tbody>\n",
              "</table>\n",
              "</div>"
            ],
            "text/plain": [
              "   Unnamed: 0  user_id  ... freq_device     IP_country\n",
              "0           0    22058  ...           1          Japan\n",
              "1           1   333320  ...           1  United States\n",
              "2           2     1359  ...       11-15  United States\n",
              "3           3    48288  ...       11-15  United States\n",
              "4           4   128706  ...       11-15  United States\n",
              "\n",
              "[5 rows x 17 columns]"
            ]
          },
          "metadata": {
            "tags": []
          },
          "execution_count": 5
        }
      ]
    },
    {
      "cell_type": "code",
      "metadata": {
        "id": "-np50P4R6a_v",
        "colab_type": "code",
        "colab": {}
      },
      "source": [
        "df.signup_time = pd.to_datetime(df.signup_time, format='%Y-%m-%d %H:%M:%S')"
      ],
      "execution_count": 0,
      "outputs": []
    },
    {
      "cell_type": "code",
      "metadata": {
        "id": "sfrFC39i6c58",
        "colab_type": "code",
        "outputId": "3bcd1e1c-15ba-4d41-a215-5f483662fc02",
        "colab": {
          "base_uri": "https://localhost:8080/",
          "height": 126
        }
      },
      "source": [
        "df.signup_time.head()"
      ],
      "execution_count": 0,
      "outputs": [
        {
          "output_type": "execute_result",
          "data": {
            "text/plain": [
              "0   2015-02-24 22:55:49\n",
              "1   2015-06-07 20:39:50\n",
              "2   2015-01-01 18:52:44\n",
              "3   2015-01-01 18:52:41\n",
              "4   2015-01-01 18:52:40\n",
              "Name: signup_time, dtype: datetime64[ns]"
            ]
          },
          "metadata": {
            "tags": []
          },
          "execution_count": 7
        }
      ]
    },
    {
      "cell_type": "code",
      "metadata": {
        "id": "hfnyOC0uCTQK",
        "colab_type": "code",
        "colab": {}
      },
      "source": [
        "df.purchase_time = pd.to_datetime(df.purchase_time, format='%Y-%m-%d %H:%M:%S')"
      ],
      "execution_count": 0,
      "outputs": []
    },
    {
      "cell_type": "code",
      "metadata": {
        "id": "HyRTd3C8EP7e",
        "colab_type": "code",
        "colab": {}
      },
      "source": [
        "df['month_purchase'] = df.purchase_time.apply(lambda x: calendar.month_name[x.month]) "
      ],
      "execution_count": 0,
      "outputs": []
    },
    {
      "cell_type": "code",
      "metadata": {
        "id": "25KezE_LF209",
        "colab_type": "code",
        "colab": {}
      },
      "source": [
        "df['weekday_purchase'] = df.purchase_time.apply(lambda x: calendar.day_name[x.weekday()]) "
      ],
      "execution_count": 0,
      "outputs": []
    },
    {
      "cell_type": "code",
      "metadata": {
        "id": "B6VfDY68HyO6",
        "colab_type": "code",
        "colab": {}
      },
      "source": [
        "df['hour_of_the_day'] = df.purchase_time.apply(lambda x: x.hour) "
      ],
      "execution_count": 0,
      "outputs": []
    },
    {
      "cell_type": "code",
      "metadata": {
        "id": "NK3YyJ96ITmy",
        "colab_type": "code",
        "colab": {}
      },
      "source": [
        "df['seconds_since_signup'] = (df.purchase_time - df.signup_time).apply(lambda x: x.total_seconds())"
      ],
      "execution_count": 0,
      "outputs": []
    },
    {
      "cell_type": "code",
      "metadata": {
        "id": "suoQdM3hVwmn",
        "colab_type": "code",
        "colab": {}
      },
      "source": [
        "risk_country = pd.DataFrame(df.groupby(by='IP_country').mean()['class'].sort_values(ascending=False))"
      ],
      "execution_count": 0,
      "outputs": []
    },
    {
      "cell_type": "code",
      "metadata": {
        "id": "qRdVvnshWcPs",
        "colab_type": "code",
        "colab": {}
      },
      "source": [
        "risk_country['risk_country'] = risk_country['class'].apply(lambda x:\n",
        "                                'Very High risk' if x > 0.25 else\n",
        "                                'High risk'      if x > 0.05 else\n",
        "                                'Medium risk'    if x >0.01  else\n",
        "                                'Low risk')"
      ],
      "execution_count": 0,
      "outputs": []
    },
    {
      "cell_type": "code",
      "metadata": {
        "id": "PpSiJfPRYZkq",
        "colab_type": "code",
        "outputId": "ff9cd3f9-1dff-461d-997d-9f2324715f03",
        "colab": {
          "base_uri": "https://localhost:8080/",
          "height": 228
        }
      },
      "source": [
        "risk_country.head()"
      ],
      "execution_count": 0,
      "outputs": [
        {
          "output_type": "execute_result",
          "data": {
            "text/html": [
              "<div>\n",
              "<style scoped>\n",
              "    .dataframe tbody tr th:only-of-type {\n",
              "        vertical-align: middle;\n",
              "    }\n",
              "\n",
              "    .dataframe tbody tr th {\n",
              "        vertical-align: top;\n",
              "    }\n",
              "\n",
              "    .dataframe thead th {\n",
              "        text-align: right;\n",
              "    }\n",
              "</style>\n",
              "<table border=\"1\" class=\"dataframe\">\n",
              "  <thead>\n",
              "    <tr style=\"text-align: right;\">\n",
              "      <th></th>\n",
              "      <th>class</th>\n",
              "      <th>risk_country</th>\n",
              "    </tr>\n",
              "    <tr>\n",
              "      <th>IP_country</th>\n",
              "      <th></th>\n",
              "      <th></th>\n",
              "    </tr>\n",
              "  </thead>\n",
              "  <tbody>\n",
              "    <tr>\n",
              "      <th>Turkmenistan</th>\n",
              "      <td>1.000000</td>\n",
              "      <td>Very High risk</td>\n",
              "    </tr>\n",
              "    <tr>\n",
              "      <th>Namibia</th>\n",
              "      <td>0.434783</td>\n",
              "      <td>Very High risk</td>\n",
              "    </tr>\n",
              "    <tr>\n",
              "      <th>Sri Lanka</th>\n",
              "      <td>0.419355</td>\n",
              "      <td>Very High risk</td>\n",
              "    </tr>\n",
              "    <tr>\n",
              "      <th>Luxembourg</th>\n",
              "      <td>0.388889</td>\n",
              "      <td>Very High risk</td>\n",
              "    </tr>\n",
              "    <tr>\n",
              "      <th>Virgin Islands (U.S.)</th>\n",
              "      <td>0.333333</td>\n",
              "      <td>Very High risk</td>\n",
              "    </tr>\n",
              "  </tbody>\n",
              "</table>\n",
              "</div>"
            ],
            "text/plain": [
              "                          class    risk_country\n",
              "IP_country                                     \n",
              "Turkmenistan           1.000000  Very High risk\n",
              "Namibia                0.434783  Very High risk\n",
              "Sri Lanka              0.419355  Very High risk\n",
              "Luxembourg             0.388889  Very High risk\n",
              "Virgin Islands (U.S.)  0.333333  Very High risk"
            ]
          },
          "metadata": {
            "tags": []
          },
          "execution_count": 15
        }
      ]
    },
    {
      "cell_type": "code",
      "metadata": {
        "id": "u5pv9xRFbcca",
        "colab_type": "code",
        "outputId": "fb80e964-c00f-42fa-907f-f2018f3b4550",
        "colab": {
          "base_uri": "https://localhost:8080/",
          "height": 35
        }
      },
      "source": [
        "risk_country.columns"
      ],
      "execution_count": 0,
      "outputs": [
        {
          "output_type": "execute_result",
          "data": {
            "text/plain": [
              "Index(['risk_country'], dtype='object')"
            ]
          },
          "metadata": {
            "tags": []
          },
          "execution_count": 20
        }
      ]
    },
    {
      "cell_type": "code",
      "metadata": {
        "id": "3PTqKdAbarL7",
        "colab_type": "code",
        "colab": {}
      },
      "source": [
        "risk_country.drop('class', axis = 1, inplace=True)"
      ],
      "execution_count": 0,
      "outputs": []
    },
    {
      "cell_type": "code",
      "metadata": {
        "id": "MURHgiNDYfLD",
        "colab_type": "code",
        "colab": {}
      },
      "source": [
        "df = df.merge(risk_country, left_on = 'IP_country', right_index=True)"
      ],
      "execution_count": 0,
      "outputs": []
    },
    {
      "cell_type": "code",
      "metadata": {
        "id": "egvM6CKuddJH",
        "colab_type": "code",
        "colab": {}
      },
      "source": [
        "df['quick_purchase'] = df.seconds_since_signup.apply(lambda x: 1 if x < 30 else 0)"
      ],
      "execution_count": 0,
      "outputs": []
    },
    {
      "cell_type": "code",
      "metadata": {
        "id": "lIiFbA5Koi7n",
        "colab_type": "code",
        "colab": {}
      },
      "source": [
        "df[\"age_category\"] = df.age.apply(lambda x : \n",
        "                 \"< 40\" if x < 40 else\n",
        "                 \"40 - 49\" if x < 50 else\n",
        "                 \"50 -59\" if x < 60 else\n",
        "                 \"60 - 69\" if x < 70 else\n",
        "                 \" > 70\")"
      ],
      "execution_count": 0,
      "outputs": []
    },
    {
      "cell_type": "code",
      "metadata": {
        "id": "bOoHNSzUpafI",
        "colab_type": "code",
        "colab": {}
      },
      "source": [
        "df[\"period_of_the_day\"] = df.hour_of_the_day.apply(lambda x : \n",
        "                                                             \"late night\" if x < 4 else\n",
        "                                                             \"early morning\" if x < 8 else\n",
        "                                                             \"morning\" if x < 12 else\n",
        "                                                             \"early aft\" if x < 16 else\n",
        "                                                             \"aft\" if x < 20 else\n",
        "                                                             \"evening\"\n",
        "                                                            )"
      ],
      "execution_count": 0,
      "outputs": []
    },
    {
      "cell_type": "code",
      "metadata": {
        "id": "C0SBgHanpgf4",
        "colab_type": "code",
        "outputId": "d269b3fe-f6d8-4592-ab03-6c277c5c27f5",
        "colab": {
          "base_uri": "https://localhost:8080/",
          "height": 1000
        }
      },
      "source": [
        "liste_col = [\"freq_device\", \"month_purchase\", \"weekday_purchase\",\n",
        "                \"risk_country\", \"quick_purchase\",\n",
        "                \"age_category\",\"period_of_the_day\"]\n",
        "\n",
        "f, ax = plt.subplots(len(liste_col),1, figsize = (20 , 30))\n",
        "\n",
        "for i, colonne in enumerate(liste_col) :\n",
        "    sns.catplot(x = colonne, y = \"class\", data = df, kind =\"point\", ax =ax[i], xlabel = colonne, figsize =(40,20))\n",
        "    plt.close(2)"
      ],
      "execution_count": 0,
      "outputs": [
        {
          "output_type": "display_data",
          "data": {
            "image/png": "[encoded data removed]",
            "text/plain": [
              "<Figure size 1440x2160 with 7 Axes>"
            ]
          },
          "metadata": {
            "tags": []
          }
        }
      ]
    },
    {
      "cell_type": "code",
      "metadata": {
        "id": "NE2pOgmfs18A",
        "colab_type": "code",
        "colab": {}
      },
      "source": [
        "df['is_january'] = df.month_purchase.apply(lambda x: 1 if x == 'January' else 0)"
      ],
      "execution_count": 0,
      "outputs": []
    },
    {
      "cell_type": "code",
      "metadata": {
        "id": "63dmejrDvzNb",
        "colab_type": "code",
        "outputId": "380a655a-ae75-4dc4-f299-3915d6f8f96e",
        "colab": {
          "base_uri": "https://localhost:8080/",
          "height": 72
        }
      },
      "source": [
        "df.is_january.value_counts()"
      ],
      "execution_count": 0,
      "outputs": [
        {
          "output_type": "execute_result",
          "data": {
            "text/plain": [
              "0    141015\n",
              "1     10097\n",
              "Name: is_january, dtype: int64"
            ]
          },
          "metadata": {
            "tags": []
          },
          "execution_count": 27
        }
      ]
    },
    {
      "cell_type": "code",
      "metadata": {
        "id": "OJvBC_B5v248",
        "colab_type": "code",
        "outputId": "d457e70b-0fab-4264-c451-f70f4d7a40ac",
        "colab": {
          "base_uri": "https://localhost:8080/",
          "height": 235
        }
      },
      "source": [
        "colonne = [\"user_id\",\"signup_time\",\"purchase_time\",\"device_id\",\n",
        "                \"ip_address\",\"IP_country\",\"hour_of_the_day\",\n",
        "               \"seconds_since_signup\", \"age\", 'upper_bound_ip_address',\n",
        "          'lower_bound_ip_address', 'country']\n",
        "df = df.drop(colonne, axis = 1)\n",
        "df.head()"
      ],
      "execution_count": 0,
      "outputs": [
        {
          "output_type": "execute_result",
          "data": {
            "text/html": [
              "<div>\n",
              "<style scoped>\n",
              "    .dataframe tbody tr th:only-of-type {\n",
              "        vertical-align: middle;\n",
              "    }\n",
              "\n",
              "    .dataframe tbody tr th {\n",
              "        vertical-align: top;\n",
              "    }\n",
              "\n",
              "    .dataframe thead th {\n",
              "        text-align: right;\n",
              "    }\n",
              "</style>\n",
              "<table border=\"1\" class=\"dataframe\">\n",
              "  <thead>\n",
              "    <tr style=\"text-align: right;\">\n",
              "      <th></th>\n",
              "      <th>Unnamed: 0</th>\n",
              "      <th>purchase_value</th>\n",
              "      <th>source</th>\n",
              "      <th>browser</th>\n",
              "      <th>sex</th>\n",
              "      <th>class</th>\n",
              "      <th>freq_device</th>\n",
              "      <th>month_purchase</th>\n",
              "      <th>weekday_purchase</th>\n",
              "      <th>risk_country</th>\n",
              "      <th>quick_purchase</th>\n",
              "      <th>age_category</th>\n",
              "      <th>period_of_the_day</th>\n",
              "      <th>is_january</th>\n",
              "    </tr>\n",
              "  </thead>\n",
              "  <tbody>\n",
              "    <tr>\n",
              "      <th>0</th>\n",
              "      <td>0</td>\n",
              "      <td>34</td>\n",
              "      <td>SEO</td>\n",
              "      <td>Chrome</td>\n",
              "      <td>M</td>\n",
              "      <td>0</td>\n",
              "      <td>1</td>\n",
              "      <td>April</td>\n",
              "      <td>Saturday</td>\n",
              "      <td>High risk</td>\n",
              "      <td>0</td>\n",
              "      <td>&lt; 40</td>\n",
              "      <td>late night</td>\n",
              "      <td>0</td>\n",
              "    </tr>\n",
              "    <tr>\n",
              "      <th>61</th>\n",
              "      <td>61</td>\n",
              "      <td>72</td>\n",
              "      <td>Direct</td>\n",
              "      <td>Chrome</td>\n",
              "      <td>F</td>\n",
              "      <td>0</td>\n",
              "      <td>1</td>\n",
              "      <td>April</td>\n",
              "      <td>Thursday</td>\n",
              "      <td>High risk</td>\n",
              "      <td>0</td>\n",
              "      <td>&lt; 40</td>\n",
              "      <td>aft</td>\n",
              "      <td>0</td>\n",
              "    </tr>\n",
              "    <tr>\n",
              "      <th>70</th>\n",
              "      <td>70</td>\n",
              "      <td>52</td>\n",
              "      <td>Direct</td>\n",
              "      <td>Chrome</td>\n",
              "      <td>F</td>\n",
              "      <td>0</td>\n",
              "      <td>1</td>\n",
              "      <td>August</td>\n",
              "      <td>Monday</td>\n",
              "      <td>High risk</td>\n",
              "      <td>0</td>\n",
              "      <td>40 - 49</td>\n",
              "      <td>early morning</td>\n",
              "      <td>0</td>\n",
              "    </tr>\n",
              "    <tr>\n",
              "      <th>84</th>\n",
              "      <td>84</td>\n",
              "      <td>67</td>\n",
              "      <td>Direct</td>\n",
              "      <td>IE</td>\n",
              "      <td>F</td>\n",
              "      <td>0</td>\n",
              "      <td>2</td>\n",
              "      <td>January</td>\n",
              "      <td>Monday</td>\n",
              "      <td>High risk</td>\n",
              "      <td>0</td>\n",
              "      <td>40 - 49</td>\n",
              "      <td>early aft</td>\n",
              "      <td>1</td>\n",
              "    </tr>\n",
              "    <tr>\n",
              "      <th>91</th>\n",
              "      <td>91</td>\n",
              "      <td>33</td>\n",
              "      <td>SEO</td>\n",
              "      <td>Chrome</td>\n",
              "      <td>F</td>\n",
              "      <td>0</td>\n",
              "      <td>2</td>\n",
              "      <td>September</td>\n",
              "      <td>Sunday</td>\n",
              "      <td>High risk</td>\n",
              "      <td>0</td>\n",
              "      <td>&lt; 40</td>\n",
              "      <td>morning</td>\n",
              "      <td>0</td>\n",
              "    </tr>\n",
              "  </tbody>\n",
              "</table>\n",
              "</div>"
            ],
            "text/plain": [
              "    Unnamed: 0  purchase_value  ... period_of_the_day is_january\n",
              "0            0              34  ...        late night          0\n",
              "61          61              72  ...               aft          0\n",
              "70          70              52  ...     early morning          0\n",
              "84          84              67  ...         early aft          1\n",
              "91          91              33  ...           morning          0\n",
              "\n",
              "[5 rows x 14 columns]"
            ]
          },
          "metadata": {
            "tags": []
          },
          "execution_count": 28
        }
      ]
    },
    {
      "cell_type": "code",
      "metadata": {
        "id": "eEf_MFN5wGNU",
        "colab_type": "code",
        "colab": {}
      },
      "source": [
        "#X = pd.get_dummies(df.drop(\"class\", axis=1),drop_first= True)\n",
        "X = df.drop(\"class\", axis=1)\n",
        "y = df[\"class\"]"
      ],
      "execution_count": 0,
      "outputs": []
    },
    {
      "cell_type": "code",
      "metadata": {
        "id": "MzgbaR4_2iES",
        "colab_type": "code",
        "outputId": "2a2535f3-7dfd-4814-bee5-8951011cf619",
        "colab": {
          "base_uri": "https://localhost:8080/",
          "height": 235
        }
      },
      "source": [
        "X = pd.get_dummies(X)\n",
        "X.head()"
      ],
      "execution_count": 0,
      "outputs": [
        {
          "output_type": "execute_result",
          "data": {
            "text/html": [
              "<div>\n",
              "<style scoped>\n",
              "    .dataframe tbody tr th:only-of-type {\n",
              "        vertical-align: middle;\n",
              "    }\n",
              "\n",
              "    .dataframe tbody tr th {\n",
              "        vertical-align: top;\n",
              "    }\n",
              "\n",
              "    .dataframe thead th {\n",
              "        text-align: right;\n",
              "    }\n",
              "</style>\n",
              "<table border=\"1\" class=\"dataframe\">\n",
              "  <thead>\n",
              "    <tr style=\"text-align: right;\">\n",
              "      <th></th>\n",
              "      <th>Unnamed: 0</th>\n",
              "      <th>purchase_value</th>\n",
              "      <th>quick_purchase</th>\n",
              "      <th>is_january</th>\n",
              "      <th>source_Ads</th>\n",
              "      <th>source_Direct</th>\n",
              "      <th>source_SEO</th>\n",
              "      <th>browser_Chrome</th>\n",
              "      <th>browser_FireFox</th>\n",
              "      <th>browser_IE</th>\n",
              "      <th>browser_Opera</th>\n",
              "      <th>browser_Safari</th>\n",
              "      <th>sex_F</th>\n",
              "      <th>sex_M</th>\n",
              "      <th>freq_device_1</th>\n",
              "      <th>freq_device_11-15</th>\n",
              "      <th>freq_device_2</th>\n",
              "      <th>freq_device_3</th>\n",
              "      <th>freq_device_4</th>\n",
              "      <th>freq_device_5-10</th>\n",
              "      <th>freq_device_&gt; 15</th>\n",
              "      <th>month_purchase_April</th>\n",
              "      <th>month_purchase_August</th>\n",
              "      <th>month_purchase_December</th>\n",
              "      <th>month_purchase_February</th>\n",
              "      <th>month_purchase_January</th>\n",
              "      <th>month_purchase_July</th>\n",
              "      <th>month_purchase_June</th>\n",
              "      <th>month_purchase_March</th>\n",
              "      <th>month_purchase_May</th>\n",
              "      <th>month_purchase_November</th>\n",
              "      <th>month_purchase_October</th>\n",
              "      <th>month_purchase_September</th>\n",
              "      <th>weekday_purchase_Friday</th>\n",
              "      <th>weekday_purchase_Monday</th>\n",
              "      <th>weekday_purchase_Saturday</th>\n",
              "      <th>weekday_purchase_Sunday</th>\n",
              "      <th>weekday_purchase_Thursday</th>\n",
              "      <th>weekday_purchase_Tuesday</th>\n",
              "      <th>weekday_purchase_Wednesday</th>\n",
              "      <th>risk_country_High risk</th>\n",
              "      <th>risk_country_Low risk</th>\n",
              "      <th>risk_country_Medium risk</th>\n",
              "      <th>risk_country_Very High risk</th>\n",
              "      <th>age_category_ &gt; 70</th>\n",
              "      <th>age_category_40 - 49</th>\n",
              "      <th>age_category_50 -59</th>\n",
              "      <th>age_category_60 - 69</th>\n",
              "      <th>age_category_&lt; 40</th>\n",
              "      <th>period_of_the_day_aft</th>\n",
              "      <th>period_of_the_day_early aft</th>\n",
              "      <th>period_of_the_day_early morning</th>\n",
              "      <th>period_of_the_day_evening</th>\n",
              "      <th>period_of_the_day_late night</th>\n",
              "      <th>period_of_the_day_morning</th>\n",
              "    </tr>\n",
              "  </thead>\n",
              "  <tbody>\n",
              "    <tr>\n",
              "      <th>0</th>\n",
              "      <td>0</td>\n",
              "      <td>34</td>\n",
              "      <td>0</td>\n",
              "      <td>0</td>\n",
              "      <td>0</td>\n",
              "      <td>0</td>\n",
              "      <td>1</td>\n",
              "      <td>1</td>\n",
              "      <td>0</td>\n",
              "      <td>0</td>\n",
              "      <td>0</td>\n",
              "      <td>0</td>\n",
              "      <td>0</td>\n",
              "      <td>1</td>\n",
              "      <td>1</td>\n",
              "      <td>0</td>\n",
              "      <td>0</td>\n",
              "      <td>0</td>\n",
              "      <td>0</td>\n",
              "      <td>0</td>\n",
              "      <td>0</td>\n",
              "      <td>1</td>\n",
              "      <td>0</td>\n",
              "      <td>0</td>\n",
              "      <td>0</td>\n",
              "      <td>0</td>\n",
              "      <td>0</td>\n",
              "      <td>0</td>\n",
              "      <td>0</td>\n",
              "      <td>0</td>\n",
              "      <td>0</td>\n",
              "      <td>0</td>\n",
              "      <td>0</td>\n",
              "      <td>0</td>\n",
              "      <td>0</td>\n",
              "      <td>1</td>\n",
              "      <td>0</td>\n",
              "      <td>0</td>\n",
              "      <td>0</td>\n",
              "      <td>0</td>\n",
              "      <td>1</td>\n",
              "      <td>0</td>\n",
              "      <td>0</td>\n",
              "      <td>0</td>\n",
              "      <td>0</td>\n",
              "      <td>0</td>\n",
              "      <td>0</td>\n",
              "      <td>0</td>\n",
              "      <td>1</td>\n",
              "      <td>0</td>\n",
              "      <td>0</td>\n",
              "      <td>0</td>\n",
              "      <td>0</td>\n",
              "      <td>1</td>\n",
              "      <td>0</td>\n",
              "    </tr>\n",
              "    <tr>\n",
              "      <th>61</th>\n",
              "      <td>61</td>\n",
              "      <td>72</td>\n",
              "      <td>0</td>\n",
              "      <td>0</td>\n",
              "      <td>0</td>\n",
              "      <td>1</td>\n",
              "      <td>0</td>\n",
              "      <td>1</td>\n",
              "      <td>0</td>\n",
              "      <td>0</td>\n",
              "      <td>0</td>\n",
              "      <td>0</td>\n",
              "      <td>1</td>\n",
              "      <td>0</td>\n",
              "      <td>1</td>\n",
              "      <td>0</td>\n",
              "      <td>0</td>\n",
              "      <td>0</td>\n",
              "      <td>0</td>\n",
              "      <td>0</td>\n",
              "      <td>0</td>\n",
              "      <td>1</td>\n",
              "      <td>0</td>\n",
              "      <td>0</td>\n",
              "      <td>0</td>\n",
              "      <td>0</td>\n",
              "      <td>0</td>\n",
              "      <td>0</td>\n",
              "      <td>0</td>\n",
              "      <td>0</td>\n",
              "      <td>0</td>\n",
              "      <td>0</td>\n",
              "      <td>0</td>\n",
              "      <td>0</td>\n",
              "      <td>0</td>\n",
              "      <td>0</td>\n",
              "      <td>0</td>\n",
              "      <td>1</td>\n",
              "      <td>0</td>\n",
              "      <td>0</td>\n",
              "      <td>1</td>\n",
              "      <td>0</td>\n",
              "      <td>0</td>\n",
              "      <td>0</td>\n",
              "      <td>0</td>\n",
              "      <td>0</td>\n",
              "      <td>0</td>\n",
              "      <td>0</td>\n",
              "      <td>1</td>\n",
              "      <td>1</td>\n",
              "      <td>0</td>\n",
              "      <td>0</td>\n",
              "      <td>0</td>\n",
              "      <td>0</td>\n",
              "      <td>0</td>\n",
              "    </tr>\n",
              "    <tr>\n",
              "      <th>70</th>\n",
              "      <td>70</td>\n",
              "      <td>52</td>\n",
              "      <td>0</td>\n",
              "      <td>0</td>\n",
              "      <td>0</td>\n",
              "      <td>1</td>\n",
              "      <td>0</td>\n",
              "      <td>1</td>\n",
              "      <td>0</td>\n",
              "      <td>0</td>\n",
              "      <td>0</td>\n",
              "      <td>0</td>\n",
              "      <td>1</td>\n",
              "      <td>0</td>\n",
              "      <td>1</td>\n",
              "      <td>0</td>\n",
              "      <td>0</td>\n",
              "      <td>0</td>\n",
              "      <td>0</td>\n",
              "      <td>0</td>\n",
              "      <td>0</td>\n",
              "      <td>0</td>\n",
              "      <td>1</td>\n",
              "      <td>0</td>\n",
              "      <td>0</td>\n",
              "      <td>0</td>\n",
              "      <td>0</td>\n",
              "      <td>0</td>\n",
              "      <td>0</td>\n",
              "      <td>0</td>\n",
              "      <td>0</td>\n",
              "      <td>0</td>\n",
              "      <td>0</td>\n",
              "      <td>0</td>\n",
              "      <td>1</td>\n",
              "      <td>0</td>\n",
              "      <td>0</td>\n",
              "      <td>0</td>\n",
              "      <td>0</td>\n",
              "      <td>0</td>\n",
              "      <td>1</td>\n",
              "      <td>0</td>\n",
              "      <td>0</td>\n",
              "      <td>0</td>\n",
              "      <td>0</td>\n",
              "      <td>1</td>\n",
              "      <td>0</td>\n",
              "      <td>0</td>\n",
              "      <td>0</td>\n",
              "      <td>0</td>\n",
              "      <td>0</td>\n",
              "      <td>1</td>\n",
              "      <td>0</td>\n",
              "      <td>0</td>\n",
              "      <td>0</td>\n",
              "    </tr>\n",
              "    <tr>\n",
              "      <th>84</th>\n",
              "      <td>84</td>\n",
              "      <td>67</td>\n",
              "      <td>0</td>\n",
              "      <td>1</td>\n",
              "      <td>0</td>\n",
              "      <td>1</td>\n",
              "      <td>0</td>\n",
              "      <td>0</td>\n",
              "      <td>0</td>\n",
              "      <td>1</td>\n",
              "      <td>0</td>\n",
              "      <td>0</td>\n",
              "      <td>1</td>\n",
              "      <td>0</td>\n",
              "      <td>0</td>\n",
              "      <td>0</td>\n",
              "      <td>1</td>\n",
              "      <td>0</td>\n",
              "      <td>0</td>\n",
              "      <td>0</td>\n",
              "      <td>0</td>\n",
              "      <td>0</td>\n",
              "      <td>0</td>\n",
              "      <td>0</td>\n",
              "      <td>0</td>\n",
              "      <td>1</td>\n",
              "      <td>0</td>\n",
              "      <td>0</td>\n",
              "      <td>0</td>\n",
              "      <td>0</td>\n",
              "      <td>0</td>\n",
              "      <td>0</td>\n",
              "      <td>0</td>\n",
              "      <td>0</td>\n",
              "      <td>1</td>\n",
              "      <td>0</td>\n",
              "      <td>0</td>\n",
              "      <td>0</td>\n",
              "      <td>0</td>\n",
              "      <td>0</td>\n",
              "      <td>1</td>\n",
              "      <td>0</td>\n",
              "      <td>0</td>\n",
              "      <td>0</td>\n",
              "      <td>0</td>\n",
              "      <td>1</td>\n",
              "      <td>0</td>\n",
              "      <td>0</td>\n",
              "      <td>0</td>\n",
              "      <td>0</td>\n",
              "      <td>1</td>\n",
              "      <td>0</td>\n",
              "      <td>0</td>\n",
              "      <td>0</td>\n",
              "      <td>0</td>\n",
              "    </tr>\n",
              "    <tr>\n",
              "      <th>91</th>\n",
              "      <td>91</td>\n",
              "      <td>33</td>\n",
              "      <td>0</td>\n",
              "      <td>0</td>\n",
              "      <td>0</td>\n",
              "      <td>0</td>\n",
              "      <td>1</td>\n",
              "      <td>1</td>\n",
              "      <td>0</td>\n",
              "      <td>0</td>\n",
              "      <td>0</td>\n",
              "      <td>0</td>\n",
              "      <td>1</td>\n",
              "      <td>0</td>\n",
              "      <td>0</td>\n",
              "      <td>0</td>\n",
              "      <td>1</td>\n",
              "      <td>0</td>\n",
              "      <td>0</td>\n",
              "      <td>0</td>\n",
              "      <td>0</td>\n",
              "      <td>0</td>\n",
              "      <td>0</td>\n",
              "      <td>0</td>\n",
              "      <td>0</td>\n",
              "      <td>0</td>\n",
              "      <td>0</td>\n",
              "      <td>0</td>\n",
              "      <td>0</td>\n",
              "      <td>0</td>\n",
              "      <td>0</td>\n",
              "      <td>0</td>\n",
              "      <td>1</td>\n",
              "      <td>0</td>\n",
              "      <td>0</td>\n",
              "      <td>0</td>\n",
              "      <td>1</td>\n",
              "      <td>0</td>\n",
              "      <td>0</td>\n",
              "      <td>0</td>\n",
              "      <td>1</td>\n",
              "      <td>0</td>\n",
              "      <td>0</td>\n",
              "      <td>0</td>\n",
              "      <td>0</td>\n",
              "      <td>0</td>\n",
              "      <td>0</td>\n",
              "      <td>0</td>\n",
              "      <td>1</td>\n",
              "      <td>0</td>\n",
              "      <td>0</td>\n",
              "      <td>0</td>\n",
              "      <td>0</td>\n",
              "      <td>0</td>\n",
              "      <td>1</td>\n",
              "    </tr>\n",
              "  </tbody>\n",
              "</table>\n",
              "</div>"
            ],
            "text/plain": [
              "    Unnamed: 0  ...  period_of_the_day_morning\n",
              "0            0  ...                          0\n",
              "61          61  ...                          0\n",
              "70          70  ...                          0\n",
              "84          84  ...                          0\n",
              "91          91  ...                          1\n",
              "\n",
              "[5 rows x 55 columns]"
            ]
          },
          "metadata": {
            "tags": []
          },
          "execution_count": 30
        }
      ]
    },
    {
      "cell_type": "code",
      "metadata": {
        "id": "ginkaSOg25wR",
        "colab_type": "code",
        "colab": {}
      },
      "source": [
        "from sklearn.model_selection import train_test_split\n",
        "X_train, X_test, y_train, y_test = train_test_split(X, y,\n",
        "                                                    random_state = 42,\n",
        "                                                    stratify = y,\n",
        "                                                    test_size = 0.25\n",
        "                                                   ) \n",
        "\n",
        "from sklearn.preprocessing import StandardScaler\n",
        "sc = StandardScaler()\n",
        "\n",
        "X_train = sc.fit_transform(X_train)\n",
        "X_test = sc.transform(X_test)"
      ],
      "execution_count": 0,
      "outputs": []
    },
    {
      "cell_type": "code",
      "metadata": {
        "id": "OXScns9V3NMZ",
        "colab_type": "code",
        "outputId": "35729598-a142-4d31-9746-1768751ab6a9",
        "colab": {
          "base_uri": "https://localhost:8080/",
          "height": 108
        }
      },
      "source": [
        "from sklearn.linear_model import LogisticRegression\n",
        "LogR = LogisticRegression(class_weight = 'Balanced')\n",
        "LogR.fit(X_train, y_train)"
      ],
      "execution_count": 0,
      "outputs": [
        {
          "output_type": "execute_result",
          "data": {
            "text/plain": [
              "LogisticRegression(C=1.0, class_weight=None, dual=False, fit_intercept=True,\n",
              "                   intercept_scaling=1, l1_ratio=None, max_iter=100,\n",
              "                   multi_class='auto', n_jobs=None, penalty='l2',\n",
              "                   random_state=None, solver='lbfgs', tol=0.0001, verbose=0,\n",
              "                   warm_start=False)"
            ]
          },
          "metadata": {
            "tags": []
          },
          "execution_count": 32
        }
      ]
    },
    {
      "cell_type": "code",
      "metadata": {
        "id": "RWPqsjpq3YSg",
        "colab_type": "code",
        "outputId": "f5ce81b2-4db8-4201-bc23-2af35cbca7e3",
        "colab": {
          "base_uri": "https://localhost:8080/",
          "height": 35
        }
      },
      "source": [
        "LogR.score(X_test, y_test)"
      ],
      "execution_count": 0,
      "outputs": [
        {
          "output_type": "execute_result",
          "data": {
            "text/plain": [
              "0.9561914341680343"
            ]
          },
          "metadata": {
            "tags": []
          },
          "execution_count": 33
        }
      ]
    },
    {
      "cell_type": "code",
      "metadata": {
        "id": "SGZGd3WtqOKL",
        "colab_type": "code",
        "outputId": "8f209b9e-4849-4bcf-8498-653aac4983c6",
        "colab": {
          "base_uri": "https://localhost:8080/",
          "height": 35
        }
      },
      "source": [
        "from sklearn.naive_bayes import GaussianNB\n",
        "model = GaussianNB()\n",
        "model.fit(X_train, y_train)"
      ],
      "execution_count": 0,
      "outputs": [
        {
          "output_type": "execute_result",
          "data": {
            "text/plain": [
              "GaussianNB(priors=None, var_smoothing=1e-09)"
            ]
          },
          "metadata": {
            "tags": []
          },
          "execution_count": 34
        }
      ]
    },
    {
      "cell_type": "code",
      "metadata": {
        "id": "LLkCArzHrp5q",
        "colab_type": "code",
        "outputId": "595c8366-ea5e-413e-97cf-5aa1540d661f",
        "colab": {
          "base_uri": "https://localhost:8080/",
          "height": 35
        }
      },
      "source": [
        "model.score(X_test, y_test)"
      ],
      "execution_count": 0,
      "outputs": [
        {
          "output_type": "execute_result",
          "data": {
            "text/plain": [
              "0.8972682513632273"
            ]
          },
          "metadata": {
            "tags": []
          },
          "execution_count": 35
        }
      ]
    },
    {
      "cell_type": "code",
      "metadata": {
        "id": "KYR1Yk1Yvhuj",
        "colab_type": "code",
        "outputId": "541d8dd8-31d4-41ff-965a-1b400b52ac37",
        "colab": {
          "base_uri": "https://localhost:8080/",
          "height": 35
        }
      },
      "source": [
        "from sklearn.model_selection import cross_val_score\n",
        "cross_val_score(LogR,X, y, cv=10).mean()"
      ],
      "execution_count": 0,
      "outputs": [
        {
          "output_type": "execute_result",
          "data": {
            "text/plain": [
              "0.9355448834264347"
            ]
          },
          "metadata": {
            "tags": []
          },
          "execution_count": 35
        }
      ]
    },
    {
      "cell_type": "code",
      "metadata": {
        "id": "_lurFWUA3qFQ",
        "colab_type": "code",
        "outputId": "dee9141a-cd11-49d6-f7e9-ac53efae83e1",
        "colab": {
          "base_uri": "https://localhost:8080/",
          "height": 279
        }
      },
      "source": [
        "f, ax = plt.subplots(figsize =(4,4))\n",
        "\n",
        "# Confusion Matrix\n",
        "from sklearn.metrics import confusion_matrix\n",
        "cm = confusion_matrix(y_test, LogR.predict(X_test))\n",
        "sns.heatmap(cm, annot=True, fmt=\"d\")\n",
        "plt.xlabel('Predicted Logistic Regression')\n",
        "plt.ylabel('True');"
      ],
      "execution_count": 0,
      "outputs": [
        {
          "output_type": "display_data",
          "data": {
            "image/png": "[encoded data removed]",
            "text/plain": [
              "<Figure size 288x288 with 2 Axes>"
            ]
          },
          "metadata": {
            "tags": []
          }
        }
      ]
    },
    {
      "cell_type": "code",
      "metadata": {
        "id": "aRS1KP0VxkjR",
        "colab_type": "code",
        "outputId": "1ac307ad-25b7-439d-cf3c-5dfe459a2038",
        "colab": {
          "base_uri": "https://localhost:8080/",
          "height": 295
        }
      },
      "source": [
        "from sklearn.metrics import roc_auc_score\n",
        "from sklearn.metrics import roc_curve\n",
        "logit_roc_auc = roc_auc_score(y_test, LogR.predict(X_test))\n",
        "fpr, tpr, thresholds = roc_curve(y_test, LogR.predict_proba(X_test)[:,1])\n",
        "plt.figure()\n",
        "plt.plot(fpr, tpr, label='Logistic Regression (area = %0.2f)' % logit_roc_auc)\n",
        "plt.plot([0, 1], [0, 1],'r--')\n",
        "plt.xlim([-0.05, 1.05])\n",
        "plt.ylim([-0.05, 1.05])\n",
        "plt.xlabel('False Positive Rate')\n",
        "plt.ylabel('True Positive Rate')\n",
        "plt.title('Receiver operating characteristic')\n",
        "plt.legend(loc=\"lower right\")\n",
        "plt.savefig('Log_ROC')\n",
        "plt.show()"
      ],
      "execution_count": 0,
      "outputs": [
        {
          "output_type": "display_data",
          "data": {
            "image/png": "[encoded data removed]",
            "text/plain": [
              "<Figure size 432x288 with 1 Axes>"
            ]
          },
          "metadata": {
            "tags": []
          }
        }
      ]
    },
    {
      "cell_type": "code",
      "metadata": {
        "id": "_VoFlfi_iolp",
        "colab_type": "code",
        "colab": {}
      },
      "source": [
        "from sklearn.svm import SVC\n",
        "svm = SVC(kernel='rbf', class_weight='balanced')"
      ],
      "execution_count": 0,
      "outputs": []
    },
    {
      "cell_type": "code",
      "metadata": {
        "id": "c11c5BKkiqbK",
        "colab_type": "code",
        "outputId": "3bcf296f-e1f6-46bc-8918-c25ef3652826",
        "colab": {
          "base_uri": "https://localhost:8080/",
          "height": 126
        }
      },
      "source": [
        "%time svm.fit(X_train, y_train)"
      ],
      "execution_count": 0,
      "outputs": [
        {
          "output_type": "stream",
          "text": [
            "CPU times: user 54min 57s, sys: 3.14 s, total: 55min\n",
            "Wall time: 55min 1s\n"
          ],
          "name": "stdout"
        },
        {
          "output_type": "execute_result",
          "data": {
            "text/plain": [
              "SVC(C=1.0, break_ties=False, cache_size=200, class_weight='balanced', coef0=0.0,\n",
              "    decision_function_shape='ovr', degree=3, gamma='scale', kernel='rbf',\n",
              "    max_iter=-1, probability=False, random_state=None, shrinking=True,\n",
              "    tol=0.001, verbose=False)"
            ]
          },
          "metadata": {
            "tags": []
          },
          "execution_count": 39
        }
      ]
    },
    {
      "cell_type": "code",
      "metadata": {
        "id": "3AFoSq9diyGi",
        "colab_type": "code",
        "outputId": "8d4bbb6d-d261-42d3-c568-d3f211cc5bd0",
        "colab": {
          "base_uri": "https://localhost:8080/",
          "height": 35
        }
      },
      "source": [
        "svm.score(X_test, y_test)"
      ],
      "execution_count": 0,
      "outputs": [
        {
          "output_type": "execute_result",
          "data": {
            "text/plain": [
              "0.9161946106199376"
            ]
          },
          "metadata": {
            "tags": []
          },
          "execution_count": 40
        }
      ]
    },
    {
      "cell_type": "code",
      "metadata": {
        "id": "HJxU5kFQCLRb",
        "colab_type": "code",
        "outputId": "b79072ec-b9b5-4eec-e7ab-4532bb7652dc",
        "colab": {
          "base_uri": "https://localhost:8080/",
          "height": 308
        }
      },
      "source": [
        "from xgboost import XGBClassifier\n",
        "from sklearn.model_selection import GridSearchCV\n",
        "\n",
        "rtc = XGBClassifier(n_jobs = -1, random_state =42)\n",
        "params = { #'max_depth' : np.arange(1,6),\n",
        "          \"learning_rate\" : np.arange(0.1,0.5,0.05),\n",
        "          \"n_estimators\" : np.arange(10,100,10)}\n",
        "\n",
        "grid =  GridSearchCV(estimator=rtc,       \n",
        "                     param_grid= params,  \n",
        "                     cv = 10,            \n",
        "                    n_jobs =-1)      \n",
        "\n",
        "grid.fit(X_train, y_train)"
      ],
      "execution_count": 0,
      "outputs": [
        {
          "output_type": "execute_result",
          "data": {
            "text/plain": [
              "GridSearchCV(cv=10, error_score=nan,\n",
              "             estimator=XGBClassifier(base_score=0.5, booster='gbtree',\n",
              "                                     colsample_bylevel=1, colsample_bynode=1,\n",
              "                                     colsample_bytree=1, gamma=0,\n",
              "                                     learning_rate=0.1, max_delta_step=0,\n",
              "                                     max_depth=3, min_child_weight=1,\n",
              "                                     missing=None, n_estimators=100, n_jobs=-1,\n",
              "                                     nthread=None, objective='binary:logistic',\n",
              "                                     random_state=42, reg_alpha=0, reg_lambda=1,\n",
              "                                     scale_pos_weight=1, seed=None, silent=None,\n",
              "                                     subsample=1, verbosity=1),\n",
              "             iid='deprecated', n_jobs=-1,\n",
              "             param_grid={'learning_rate': array([0.1 , 0.15, 0.2 , 0.25, 0.3 , 0.35, 0.4 , 0.45]),\n",
              "                         'n_estimators': array([10, 20, 30, 40, 50, 60, 70, 80, 90])},\n",
              "             pre_dispatch='2*n_jobs', refit=True, return_train_score=False,\n",
              "             scoring=None, verbose=0)"
            ]
          },
          "metadata": {
            "tags": []
          },
          "execution_count": 52
        }
      ]
    },
    {
      "cell_type": "code",
      "metadata": {
        "id": "Dnxv8rY9glaj",
        "colab_type": "code",
        "outputId": "91206c76-0046-46e8-e79a-31ae653d6b0e",
        "colab": {
          "base_uri": "https://localhost:8080/",
          "height": 35
        }
      },
      "source": [
        "grid.best_estimator_.score(X_test, y_test)"
      ],
      "execution_count": 0,
      "outputs": [
        {
          "output_type": "execute_result",
          "data": {
            "text/plain": [
              "0.9561649637355074"
            ]
          },
          "metadata": {
            "tags": []
          },
          "execution_count": 55
        }
      ]
    },
    {
      "cell_type": "code",
      "metadata": {
        "id": "hglX1XYgCsFX",
        "colab_type": "code",
        "colab": {}
      },
      "source": [
        "from sklearn.model_selection import GridSearchCV\n",
        "from sklearn.ensemble import RandomForestClassifier\n",
        "\n",
        "rtc = RandomForestClassifier()\n",
        "params = {#'max_depth' : np.arange(1,5),\n",
        "         'min_samples_leaf' : [1, 5, 10, 20],\n",
        "         \"n_estimators\" : np.arange(10,100,20)}\n",
        "\n",
        "grid1 =  GridSearchCV(estimator=rtc,       \n",
        "                     param_grid= params,  \n",
        "                     cv = 10,             \n",
        "                    n_jobs =-1)           \n",
        "grid1.fit(X_train, y_train)\n"
      ],
      "execution_count": 0,
      "outputs": []
    },
    {
      "cell_type": "code",
      "metadata": {
        "id": "-Hg7ghnHWg1p",
        "colab_type": "code",
        "outputId": "2365ef55-9819-4df9-a3d7-c55171422d38",
        "colab": {
          "base_uri": "https://localhost:8080/",
          "height": 381
        }
      },
      "source": [
        "print( grid1.best_estimator_.score(X_test, y_test)) \n",
        "grid1.best_estimator_.get_params()"
      ],
      "execution_count": 0,
      "outputs": [
        {
          "output_type": "stream",
          "text": [
            "0.9561914341680343\n"
          ],
          "name": "stdout"
        },
        {
          "output_type": "execute_result",
          "data": {
            "text/plain": [
              "{'bootstrap': True,\n",
              " 'ccp_alpha': 0.0,\n",
              " 'class_weight': None,\n",
              " 'criterion': 'gini',\n",
              " 'max_depth': None,\n",
              " 'max_features': 'auto',\n",
              " 'max_leaf_nodes': None,\n",
              " 'max_samples': None,\n",
              " 'min_impurity_decrease': 0.0,\n",
              " 'min_impurity_split': None,\n",
              " 'min_samples_leaf': 5,\n",
              " 'min_samples_split': 2,\n",
              " 'min_weight_fraction_leaf': 0.0,\n",
              " 'n_estimators': 70,\n",
              " 'n_jobs': None,\n",
              " 'oob_score': False,\n",
              " 'random_state': None,\n",
              " 'verbose': 0,\n",
              " 'warm_start': False}"
            ]
          },
          "metadata": {
            "tags": []
          },
          "execution_count": 51
        }
      ]
    },
    {
      "cell_type": "code",
      "metadata": {
        "id": "fE73zsoGWmkc",
        "colab_type": "code",
        "colab": {}
      },
      "source": [
        ""
      ],
      "execution_count": 0,
      "outputs": []
    }
  ]
}